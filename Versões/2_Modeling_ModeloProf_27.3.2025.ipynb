{
 "cells": [
  {
   "cell_type": "markdown",
   "id": "1834cc3d7b582eb2",
   "metadata": {},
   "source": [
    "<div style=\"display: flex; align-items: center; justify-content: center; flex-wrap: wrap;\">\n",
    "    <div style=\"flex: 1; max-width: 400px; display: flex; justify-content: center;\">\n",
    "        <img src=\"https://i.ibb.co/JBPWVYR/Logo-Nova-IMS-Black.png\" style=\"max-width: 50%; height: auto; margin-top: 50px; margin-bottom: 50px;margin-left: 6rem;\">\n",
    "    </div>\n",
    "    <div style=\"flex: 2; text-align: center; margin-top: 20px;margin-left: 8rem;\">\n",
    "        <div style=\"font-size: 28px; font-weight: bold; line-height: 1.2;\">\n",
    "            <span style=\"color: #22c1c3;\">DL Project |</span> <span style=\"color: #08529C;\">Predicting Rare Species from Images using Deep Learning</span>\n",
    "        </div>\n",
    "        <div style=\"font-size: 17px; font-weight: bold; margin-top: 10px;\">\n",
    "            Spring Semester | 2024 - 2025\n",
    "        </div>\n",
    "        <div style=\"font-size: 17px; font-weight: bold;\">\n",
    "            Master in Data Science and Advanced Analytics\n",
    "        </div>\n",
    "        <div style=\"margin-top: 20px;\">\n",
    "            <div>André Silvestre, 20240502</div>\n",
    "            <div>Diogo Duarte, 20240525</div>\n",
    "            <div>Filipa Pereira, 20240509</div>\n",
    "            <div>Maria Cruz, 20230760</div>\n",
    "            <div>Umeima Mahomed, 20240543</div>\n",
    "        </div>\n",
    "        <div style=\"margin-top: 20px; font-weight: bold;\">\n",
    "            Group 37\n",
    "        </div>\n",
    "    </div>\n",
    "</div>"
   ]
  },
  {
   "cell_type": "markdown",
   "id": "827c9197",
   "metadata": {},
   "source": [
    "<div style=\"background: linear-gradient(to right, #22c1c3, #27b1dd, #2d9cfd, #090979); \n",
    "            padding: 1px; color: white; border-radius: 500px; text-align: center;\">\n",
    "</div>"
   ]
  },
  {
   "cell_type": "markdown",
   "id": "7f603cf1cb0fd531",
   "metadata": {},
   "source": [
    "## **📚 Libraries Import**"
   ]
  },
  {
   "cell_type": "code",
   "execution_count": null,
   "id": "9c91174e",
   "metadata": {},
   "outputs": [],
   "source": [
    "import ssl\n",
    "ssl._create_default_https_context = ssl._create_unverified_context\n",
    "\n",
    "# System imports\n",
    "import os\n",
    "import sys\n",
    "from tqdm import tqdm\n",
    "from typing_extensions import Self, Any      # For Python 3.10\n",
    "# from typing import Self, Any               # For Python >3.11\n",
    "\n",
    "from pathlib import Path\n",
    "\n",
    "# Data manipulation imports\n",
    "import numpy as np\n",
    "import pandas as pd  \n",
    "import warnings\n",
    "warnings.filterwarnings(\"ignore\")\n",
    "\n",
    "# Data visualization imports\n",
    "import matplotlib.pyplot as plt\n",
    "import seaborn as sns\n",
    "\n",
    "# Deep learning imports\n",
    "import tensorflow as tf\n",
    "from keras.ops import add\n",
    "from keras.losses import CategoricalCrossentropy\n",
    "from tensorflow.keras.optimizers import Adam, SGD\n",
    "from tensorflow.keras import Model, Sequential, Input\n",
    "from tensorflow.keras.utils import image_dataset_from_directory\n",
    "from tensorflow.keras.callbacks import ModelCheckpoint, CSVLogger, LearningRateScheduler\n",
    "from tensorflow.keras.layers import Dense, Dropout, Flatten, Conv2D, MaxPooling2D\n",
    "\n",
    "# Image processing imports (Data Augmentation)\n",
    "from keras.layers import Rescaling, RandomBrightness, RandomFlip, RandomRotation, \n",
    "from keras.layers import Pipeline\n",
    "\n",
    "# Evaluation imports\n",
    "from sklearn.metrics import confusion_matrix, classification_report, accuracy_score, f1_score, precision_score, recall_score\n",
    "from keras.metrics import CategoricalAccuracy, AUC, F1Score\n",
    "\n",
    "# Other imports\n",
    "from itertools import product\n",
    "\n",
    "# Image processing imports\n",
    "from matplotlib.image import imread\n",
    "from PIL import Image\n",
    "\n",
    "# Set the style of the visualization\n",
    "pd.set_option('future.no_silent_downcasting', True)   # use int instead of float in DataFrame\n",
    "pd.set_option(\"display.max_columns\", None)            # display all columns\n",
    "\n",
    "# Disable warnings (FutureWarning)\n",
    "import warnings\n",
    "warnings.filterwarnings('ignore', category=FutureWarning)\n",
    "warnings.filterwarnings('ignore', category=UserWarning)\n",
    "\n",
    "# For better resolution plots\n",
    "%config InlineBackend.figure_format = 'retina'\n",
    "# Setting seaborn style\n",
    "sns.set_theme(style=\"white\")\n",
    "\n",
    "# Set random seed for reproducibility\n",
    "np.random.seed(2025)"
   ]
  },
  {
   "cell_type": "markdown",
   "id": "4a5d91a720daf9a2",
   "metadata": {},
   "source": [
    "## **🧮 Import Databases**"
   ]
  },
  {
   "cell_type": "code",
   "execution_count": 12,
   "id": "b87da922",
   "metadata": {},
   "outputs": [],
   "source": [
    "# Define the path to the data\n",
    "train_dir = Path(\"data/train\")\n",
    "val_dir = Path(\"data/val\")\n",
    "test_dir = Path(\"data/test\")"
   ]
  },
  {
   "cell_type": "code",
   "execution_count": null,
   "id": "5977e7e9",
   "metadata": {},
   "outputs": [
    {
     "name": "stdout",
     "output_type": "stream",
     "text": [
      "Found 8388 files belonging to 202 classes.\n",
      "Found 1797 files belonging to 202 classes.\n",
      "Found 1798 files belonging to 202 classes.\n"
     ]
    }
   ],
   "source": [
    "# Image Generators\n",
    "n_classes = 202                                     # Number of classes (we already know this based on previous notebook)\n",
    "image_size = (224, 224)                             # Size of the images\n",
    "img_width, img_height = 224, 224               \n",
    "batch_size = 32                                     # Batch size\n",
    "input_shape = (img_width, img_height, 3)            # Input shape of the model\n",
    "value_range = (0.0, 1.0)                            # Range of pixel values\n",
    "\n",
    "# Train data generator\n",
    "train_datagen = image_dataset_from_directory(\n",
    "    train_dir,                                      # Path to the directory\n",
    "    labels='inferred',                              # Type of labels to generate (inferred = from the directory structure)\n",
    "    label_mode='categorical',                       # Type of labels to generate (categorical = 'float32' tensor of shape (batch_size, num_classes), representing a one-hot encoding of the class index.)\n",
    "    class_names=None,                               # List of class names\n",
    "    color_mode='rgb',                               # Color mode to read images\n",
    "    batch_size=batch_size,                          # Size of the batches of data\n",
    "    image_size=(img_width, img_height),             # Size of the images to read\n",
    "    shuffle=True,                                   # Whether to shuffle the data\n",
    "    seed=2025,                                      # Random seed for shuffling and transformations\n",
    "    validation_split=None,                          # Fraction of images reserved for validation (between 0 and 1)\n",
    "    subset=None,                                    # Subset of data ('training' or 'validation') if validation_split is set\n",
    "    interpolation='bilinear',                       # Interpolation method to resample the image\n",
    "    follow_links=False,                             # Whether to follow symlinks inside class subdirectories\n",
    ")\n",
    "\n",
    "# Validation data generator\n",
    "val_datagen = image_dataset_from_directory(\n",
    "    val_dir,\n",
    "    labels='inferred',\n",
    "    label_mode='categorical',\n",
    "    color_mode='rgb',\n",
    "    batch_size=batch_size,\n",
    "    image_size=(img_width, img_height),\n",
    "    shuffle=True,\n",
    "    seed=2025,\n",
    "    interpolation='bilinear',\n",
    "    follow_links=False,\n",
    ")\n",
    "\n",
    "# Test data generator\n",
    "test_datagen = image_dataset_from_directory(\n",
    "    test_dir,\n",
    "    labels='inferred',\n",
    "    label_mode='categorical',\n",
    "    color_mode='rgb',\n",
    "    batch_size=batch_size,\n",
    "    image_size=(img_width, img_height),\n",
    "    shuffle=True,\n",
    "    seed=2025,\n",
    "    interpolation='bilinear',\n",
    "    follow_links=False,\n",
    ")"
   ]
  },
  {
   "cell_type": "markdown",
   "id": "61f158b792ebd291",
   "metadata": {},
   "source": [
    "# <a class='anchor' id='3'></a>\n",
    "<br>\n",
    "<style>\n",
    "@import url('https://fonts.cdnfonts.com/css/avenir-next-lt-pro?styles=29974');\n",
    "</style>\n",
    "\n",
    "<div style=\"background: linear-gradient(to right, #22c1c3, #27b1dd, #2d9cfd, #090979); \n",
    "            padding: 10px; color: white; border-radius: 300px; text-align: center;\">\n",
    "    <center><h1 style=\"margin-left: 140px;margin-top: 10px; margin-bottom: 4px; color: white;\n",
    "                       font-size: 32px; font-family: 'Avenir Next LT Pro', sans-serif;\">\n",
    "        <b>3 | Modeling - Baseline Model</b></h1></center>\n",
    "</div>\n",
    "\n",
    "<br><br>"
   ]
  },
  {
   "cell_type": "markdown",
   "id": "26312ae5b0368022",
   "metadata": {},
   "source": [
    "# **💡 Modeling**"
   ]
  },
  {
   "cell_type": "markdown",
   "id": "19782ac1",
   "metadata": {},
   "source": [
    "#### **Data Augmentation | Pipeline**"
   ]
  },
  {
   "cell_type": "code",
   "execution_count": null,
   "id": "ce555524",
   "metadata": {},
   "outputs": [],
   "source": [
    "# https://keras.io/api/layers/preprocessing_layers/image_preprocessing/\n",
    "augmentation_layer = Pipeline(\n",
    "    [\n",
    "        Rescaling(1./255),\n",
    "        RandomFlip(\"horizontal_and_vertical\"),\n",
    "        RandomRotation(factor=0.1, fill_mode=\"reflect\")\n",
    "    ],\n",
    "    name=\"augmentation_layer\"\n",
    ")"
   ]
  },
  {
   "cell_type": "markdown",
   "id": "90085e50",
   "metadata": {},
   "source": [
    "#### **Modeling | Baseline Model**"
   ]
  },
  {
   "cell_type": "code",
   "execution_count": null,
   "id": "b3556121",
   "metadata": {},
   "outputs": [],
   "source": [
    "class MyTinyCNN(Model):\n",
    "    \"\"\"\n",
    "    MyTinyCNN class, inherets from keras' Model class\n",
    "    \"\"\"\n",
    "\n",
    "    def __init__(self: Self, activation: str = \"relu\") -> None:\n",
    "        \"\"\"\n",
    "        Initialization\n",
    "        \"\"\"\n",
    "\n",
    "        super().__init__(name=\"my_tiny_oo_cnn\")\n",
    "\n",
    "        if image_size:\n",
    "            self.augmentation_layer = augmentation_layer\n",
    "\n",
    "        self.conv_layer_1 = Conv2D(\n",
    "            filters=3 * 8,\n",
    "            kernel_size=(3, 3),\n",
    "            activation=activation,\n",
    "            name=\"conv_layer_1\"\n",
    "        )\n",
    "        self.max_pool_layer_1 = MaxPooling2D(\n",
    "            pool_size=(2, 2),\n",
    "            name=\"max_pool_layer_1\"\n",
    "        )\n",
    "\n",
    "        # exemplify non-sequential nature of computation possible with\n",
    "        # the functional and object-oriented methods\n",
    "        self.conv_layer_2l = Conv2D(\n",
    "            filters=3 * 16,\n",
    "            kernel_size=(3, 3),\n",
    "            activation=activation,\n",
    "            name=\"conv_layer_2l\",\n",
    "            padding=\"same\"\n",
    "        )\n",
    "        self.conv_layer_2r = Conv2D(\n",
    "            filters=3 * 16,\n",
    "            kernel_size=(2, 2),\n",
    "            activation=activation,\n",
    "            name=\"conv_layer_2r\",\n",
    "            padding=\"same\"\n",
    "        )\n",
    "        self.max_pool_layer_2 = MaxPooling2D(\n",
    "            pool_size=(2, 2),\n",
    "            name=\"max_pool_layer_2\"\n",
    "        )\n",
    "\n",
    "        self.flatten_layer = Flatten(name=\"flatten_layer\")\n",
    "        self.dropout = Dropout(rate=0.3)\n",
    "        self.dense_layer = Dense(\n",
    "            n_classes,\n",
    "            activation=\"softmax\",\n",
    "            name=\"classification_head\"\n",
    "        )\n",
    "\n",
    "    def call(self: Self, inputs: Any) -> Any:\n",
    "        \"\"\"\n",
    "        Forward call\n",
    "        \"\"\"\n",
    "\n",
    "        x = self.augmentation_layer(inputs)\n",
    "\n",
    "\n",
    "        x = self.conv_layer_1(x)\n",
    "        x = self.max_pool_layer_1(x)\n",
    "\n",
    "        # exemplify non-sequential nature of computation possible with\n",
    "        # the functional and object-oriented methods\n",
    "        x_l = self.conv_layer_2l(x)\n",
    "        x_r = self.conv_layer_2r(x)\n",
    "        x = add(x_l, x_r)\n",
    "        x = self.max_pool_layer_2(x)\n",
    "\n",
    "        x = self.flatten_layer(x)\n",
    "        x = self.dropout(x)\n",
    "\n",
    "        return  self.dense_layer(x)"
   ]
  },
  {
   "cell_type": "code",
   "execution_count": 28,
   "id": "391168a3",
   "metadata": {},
   "outputs": [],
   "source": [
    "# Train our regularized MyTinyCNN\n",
    "model = MyTinyCNN()\n",
    "# optimizer = Adam(learning_rate=0.001)\n",
    "optimizer = SGD(learning_rate=0.01, name=\"optimizer\", weight_decay=0.01)\n",
    "loss = CategoricalCrossentropy(name=\"loss\")"
   ]
  },
  {
   "cell_type": "code",
   "execution_count": null,
   "id": "870a01da",
   "metadata": {},
   "outputs": [],
   "source": [
    "model.summary()"
   ]
  },
  {
   "cell_type": "code",
   "execution_count": 29,
   "id": "cdfba75f",
   "metadata": {},
   "outputs": [],
   "source": [
    "# Metrics\n",
    "categorical_accuracy = CategoricalAccuracy(name=\"accuracy\")\n",
    "auc = AUC(name=\"auc\")\n",
    "f1_score = F1Score(average=\"macro\", name=\"f1_score\")\n",
    "metrics = [categorical_accuracy, auc, f1_score]"
   ]
  },
  {
   "cell_type": "code",
   "execution_count": 30,
   "id": "e298771b",
   "metadata": {},
   "outputs": [],
   "source": [
    "# Traces the computation\n",
    "model.compile(loss=loss, optimizer=optimizer, metrics=metrics)"
   ]
  },
  {
   "cell_type": "code",
   "execution_count": 31,
   "id": "c38b4962",
   "metadata": {},
   "outputs": [],
   "source": [
    "# Callbacks\n",
    "root_dir_path = Path(\".\")\n",
    "checkpoint_file_path = root_dir_path / \"checkpoint.keras\"\n",
    "metrics_file_path = root_dir_path = root_dir_path / \"metrics.csv\"\n",
    "\n",
    "checkpoint_callback = ModelCheckpoint(\n",
    "    checkpoint_file_path,                                             # Save for each epoch the best model\n",
    "    monitor=\"val_loss\",\n",
    "    verbose=0\n",
    ")\n",
    "metrics_callback = CSVLogger(metrics_file_path)                       # Save for the metrics"
   ]
  },
  {
   "cell_type": "code",
   "execution_count": 32,
   "id": "0a190b47",
   "metadata": {},
   "outputs": [],
   "source": [
    "# Learning Rate\n",
    "def exp_decay_lr_scheduler(\n",
    "    epoch: int,                                              # O 1º e o 2º argumentos têm de ser o epoch e o lr nesta ordem\n",
    "    current_lr: float,\n",
    "    factor: float = 0.95\n",
    ") -> float:\n",
    "    \"\"\"\n",
    "    Exponential decay learning rate scheduler\n",
    "    \"\"\"\n",
    "\n",
    "    current_lr *= factor\n",
    "\n",
    "    return current_lr"
   ]
  },
  {
   "cell_type": "code",
   "execution_count": 33,
   "id": "a622d0d8",
   "metadata": {},
   "outputs": [],
   "source": [
    "lr_scheduler_callback = LearningRateScheduler(exp_decay_lr_scheduler)"
   ]
  },
  {
   "cell_type": "code",
   "execution_count": 34,
   "id": "0fb01832",
   "metadata": {},
   "outputs": [],
   "source": [
    "callbacks = [\n",
    "    checkpoint_callback,\n",
    "    metrics_callback,\n",
    "    lr_scheduler_callback\n",
    "]                                                   # List of callbacks"
   ]
  },
  {
   "cell_type": "code",
   "execution_count": 36,
   "id": "123a011a",
   "metadata": {},
   "outputs": [
    {
     "name": "stdout",
     "output_type": "stream",
     "text": [
      "Epoch 1/10\n"
     ]
    },
    {
     "name": "stderr",
     "output_type": "stream",
     "text": [
      "I0000 00:00:1743105608.178889    6224 cuda_dnn.cc:529] Loaded cuDNN version 90300\n",
      "2025-03-27 20:00:27.421526: W external/local_xla/xla/tsl/framework/cpu_allocator_impl.cc:83] Allocation of 346800000 exceeds 10% of free system memory.\n"
     ]
    },
    {
     "name": "stdout",
     "output_type": "stream",
     "text": [
      "263/263 - 50s - 192ms/step - accuracy: 0.0291 - auc: 0.6490 - f1_score: 0.0022 - loss: 5.0914 - val_accuracy: 0.0273 - val_auc: 0.6653 - val_f1_score: 0.0018 - val_loss: 5.0461 - learning_rate: 0.0095\n",
      "Epoch 2/10\n"
     ]
    },
    {
     "name": "stderr",
     "output_type": "stream",
     "text": [
      "2025-03-27 20:01:00.731029: W external/local_xla/xla/tsl/framework/cpu_allocator_impl.cc:83] Allocation of 346800000 exceeds 10% of free system memory.\n"
     ]
    },
    {
     "name": "stdout",
     "output_type": "stream",
     "text": [
      "263/263 - 34s - 129ms/step - accuracy: 0.0324 - auc: 0.6631 - f1_score: 0.0025 - loss: 5.0240 - val_accuracy: 0.0250 - val_auc: 0.6522 - val_f1_score: 0.0011 - val_loss: 5.1413 - learning_rate: 0.0090\n",
      "Epoch 3/10\n"
     ]
    },
    {
     "name": "stderr",
     "output_type": "stream",
     "text": [
      "2025-03-27 20:01:37.640643: W external/local_xla/xla/tsl/framework/cpu_allocator_impl.cc:83] Allocation of 346800000 exceeds 10% of free system memory.\n"
     ]
    },
    {
     "name": "stdout",
     "output_type": "stream",
     "text": [
      "263/263 - 39s - 148ms/step - accuracy: 0.0360 - auc: 0.6731 - f1_score: 0.0040 - loss: 4.9930 - val_accuracy: 0.0356 - val_auc: 0.6747 - val_f1_score: 0.0033 - val_loss: 5.0057 - learning_rate: 0.0086\n",
      "Epoch 4/10\n"
     ]
    },
    {
     "name": "stderr",
     "output_type": "stream",
     "text": [
      "2025-03-27 20:02:12.905797: W external/local_xla/xla/tsl/framework/cpu_allocator_impl.cc:83] Allocation of 346800000 exceeds 10% of free system memory.\n"
     ]
    },
    {
     "name": "stdout",
     "output_type": "stream",
     "text": [
      "263/263 - 32s - 122ms/step - accuracy: 0.0404 - auc: 0.6791 - f1_score: 0.0046 - loss: 4.9622 - val_accuracy: 0.0323 - val_auc: 0.6676 - val_f1_score: 0.0069 - val_loss: 5.0465 - learning_rate: 0.0081\n",
      "Epoch 5/10\n"
     ]
    },
    {
     "name": "stderr",
     "output_type": "stream",
     "text": [
      "2025-03-27 20:02:45.734132: W external/local_xla/xla/tsl/framework/cpu_allocator_impl.cc:83] Allocation of 346800000 exceeds 10% of free system memory.\n"
     ]
    },
    {
     "name": "stdout",
     "output_type": "stream",
     "text": [
      "263/263 - 34s - 129ms/step - accuracy: 0.0380 - auc: 0.6862 - f1_score: 0.0058 - loss: 4.9425 - val_accuracy: 0.0267 - val_auc: 0.6674 - val_f1_score: 7.4905e-04 - val_loss: 5.0609 - learning_rate: 0.0077\n",
      "Epoch 6/10\n",
      "263/263 - 32s - 120ms/step - accuracy: 0.0439 - auc: 0.6893 - f1_score: 0.0095 - loss: 4.9207 - val_accuracy: 0.0356 - val_auc: 0.6843 - val_f1_score: 0.0085 - val_loss: 4.9800 - learning_rate: 0.0074\n",
      "Epoch 7/10\n",
      "263/263 - 30s - 115ms/step - accuracy: 0.0420 - auc: 0.6930 - f1_score: 0.0127 - loss: 4.9052 - val_accuracy: 0.0434 - val_auc: 0.6860 - val_f1_score: 0.0126 - val_loss: 4.9823 - learning_rate: 0.0070\n",
      "Epoch 8/10\n",
      "263/263 - 32s - 123ms/step - accuracy: 0.0457 - auc: 0.6944 - f1_score: 0.0115 - loss: 4.8969 - val_accuracy: 0.0295 - val_auc: 0.6626 - val_f1_score: 0.0075 - val_loss: 5.1943 - learning_rate: 0.0066\n",
      "Epoch 9/10\n",
      "263/263 - 30s - 115ms/step - accuracy: 0.0492 - auc: 0.6996 - f1_score: 0.0143 - loss: 4.8732 - val_accuracy: 0.0245 - val_auc: 0.6747 - val_f1_score: 0.0057 - val_loss: 5.0239 - learning_rate: 0.0063\n",
      "Epoch 10/10\n",
      "263/263 - 29s - 109ms/step - accuracy: 0.0502 - auc: 0.7001 - f1_score: 0.0149 - loss: 4.8609 - val_accuracy: 0.0295 - val_auc: 0.6609 - val_f1_score: 0.0047 - val_loss: 5.0652 - learning_rate: 0.0060\n"
     ]
    }
   ],
   "source": [
    "# train the model\n",
    "_ = model.fit(train_datagen,\n",
    "              epochs=10,\n",
    "              validation_data=val_datagen,\n",
    "              callbacks=callbacks,\n",
    "              verbose=2)"
   ]
  },
  {
   "cell_type": "markdown",
   "id": "19f48a4f",
   "metadata": {},
   "source": [
    "---"
   ]
  },
  {
   "cell_type": "markdown",
   "id": "204995d589f8431f",
   "metadata": {},
   "source": [
    "### <a class='anchor' id='3_1'></a> <a class='anchor' id='3_2'></a>  **🧪 Model Selection & 📏 Model Evaluation**"
   ]
  },
  {
   "cell_type": "code",
   "execution_count": null,
   "id": "24ffc2e9",
   "metadata": {},
   "outputs": [
    {
     "data": {
      "text/plain": [
       "{'accuracy': 0.0339265838265419,\n",
       " 'auc': 0.6677749752998352,\n",
       " 'f1_score': 0.006862386129796505,\n",
       " 'loss': 5.02635383605957}"
      ]
     },
     "execution_count": 37,
     "metadata": {},
     "output_type": "execute_result"
    },
    {
     "ename": "",
     "evalue": "",
     "output_type": "error",
     "traceback": [
      "\u001b[1;31mThe Kernel crashed while executing code in the current cell or a previous cell. \n",
      "\u001b[1;31mPlease review the code in the cell(s) to identify a possible cause of the failure. \n",
      "\u001b[1;31mClick <a href='https://aka.ms/vscodeJupyterKernelCrash'>here</a> for more info. \n",
      "\u001b[1;31mView Jupyter <a href='command:jupyter.viewOutput'>log</a> for further details."
     ]
    }
   ],
   "source": [
    "# evaluate on the test set\n",
    "model.evaluate(\n",
    "    test_datagen,\n",
    "    batch_size=batch_size,\n",
    "    return_dict=True,\n",
    "    verbose=0\n",
    ")"
   ]
  },
  {
   "cell_type": "code",
   "execution_count": null,
   "id": "632582b5",
   "metadata": {},
   "outputs": [],
   "source": []
  },
  {
   "cell_type": "code",
   "execution_count": null,
   "id": "d0d9d90f",
   "metadata": {},
   "outputs": [],
   "source": []
  },
  {
   "cell_type": "code",
   "execution_count": null,
   "id": "c5e2e827",
   "metadata": {},
   "outputs": [],
   "source": []
  },
  {
   "cell_type": "code",
   "execution_count": null,
   "id": "5b849b2d",
   "metadata": {},
   "outputs": [],
   "source": []
  },
  {
   "cell_type": "markdown",
   "id": "84b90a90",
   "metadata": {},
   "source": [
    "---"
   ]
  },
  {
   "cell_type": "code",
   "execution_count": null,
   "id": "0e61c8d7",
   "metadata": {},
   "outputs": [],
   "source": []
  },
  {
   "cell_type": "code",
   "execution_count": null,
   "id": "f95a3689",
   "metadata": {},
   "outputs": [],
   "source": []
  },
  {
   "cell_type": "markdown",
   "id": "9dff3bdf66c1f233",
   "metadata": {},
   "source": [
    "---"
   ]
  },
  {
   "cell_type": "markdown",
   "id": "45a5816b",
   "metadata": {},
   "source": [
    "# **🔗 Bibliography/References**\n",
    "\n",
    "**[[1]](https://)** AAAAAAAAAA\n",
    "\n",
    "---"
   ]
  }
 ],
 "metadata": {
  "kernelspec": {
   "display_name": "tf218",
   "language": "python",
   "name": "python3"
  },
  "language_info": {
   "codemirror_mode": {
    "name": "ipython",
    "version": 3
   },
   "file_extension": ".py",
   "mimetype": "text/x-python",
   "name": "python",
   "nbconvert_exporter": "python",
   "pygments_lexer": "ipython3",
   "version": "3.10.12"
  }
 },
 "nbformat": 4,
 "nbformat_minor": 5
}
