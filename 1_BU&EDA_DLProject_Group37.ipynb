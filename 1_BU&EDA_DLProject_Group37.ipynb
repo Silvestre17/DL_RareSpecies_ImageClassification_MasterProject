{
 "cells": [
  {
   "cell_type": "markdown",
   "id": "c8b11259-d511-4ec9-9ab7-59d6fb3cdc75",
   "metadata": {},
   "source": [
    "<div style=\"display: flex; align-items: center; justify-content: center; flex-wrap: wrap;\">\n",
    "    <div style=\"flex: 1; max-width: 400px; display: flex; justify-content: center;\">\n",
    "        <img src=\"https://i.ibb.co/JBPWVYR/Logo-Nova-IMS-Black.png\" style=\"max-width: 50%; height: auto; margin-top: 50px; margin-bottom: 50px;margin-left: 6rem;\">\n",
    "    </div>\n",
    "    <div style=\"flex: 2; text-align: center; margin-top: 20px;margin-left: 8rem;\">\n",
    "        <div style=\"font-size: 28px; font-weight: bold; line-height: 1.2;\">\n",
    "            <span style=\"color: #22c1c3;\">DL Project |</span> <span style=\"color: #08529C;\">Predicting Rare Species from Images using Deep Learning</span>\n",
    "        </div>\n",
    "        <div style=\"font-size: 17px; font-weight: bold; margin-top: 10px;\">\n",
    "            Spring Semester | 2024 - 2025\n",
    "        </div>\n",
    "        <div style=\"font-size: 17px; font-weight: bold;\">\n",
    "            Master in Data Science and Advanced Analytics\n",
    "        </div>\n",
    "        <div style=\"margin-top: 20px;\">\n",
    "            <div>André Silvestre, 20240502</div>\n",
    "            <div>Diogo Duarte, 20240525</div>\n",
    "            <div>Filipa Pereira, 20240509</div>\n",
    "            <div>Maria Cruz, 20230760</div>\n",
    "            <div>Umeima Mahomed, 20240543</div>\n",
    "        </div>\n",
    "        <div style=\"margin-top: 20px; font-weight: bold;\">\n",
    "            Group 37\n",
    "        </div>\n",
    "    </div>\n",
    "</div>"
   ]
  },
  {
   "cell_type": "markdown",
   "id": "e438c19e",
   "metadata": {},
   "source": [
    "<div style=\"background: linear-gradient(to right, #22c1c3, #27b1dd, #2d9cfd, #090979); \n",
    "            padding: 1px; color: white; border-radius: 500px; text-align: center;\">\n",
    "</div>\n",
    "\n",
    "# **Project Structure**\n",
    "\n",
    "\n",
    "<ol style=\"list-style-type: upper-roman;font-weight: bold;\">\n",
    "  <li><span style = \"font-weight: normal;\"><a href=\"#1\">Data Understanding</a></span></li>\n",
    "  <li>\n",
    "    <span style=\"font-weight: normal;\">\n",
    "      <a href=\"#2\">Data Preparation</a>\n",
    "    </span>\n",
    "    <ol style=\"list-style-type:decimal;\">\n",
    "      <li><span style=\"font-weight: normal;\"><a href=\"#DP_NaNs\">Missing Values</a></span></li>\n",
    "      <li><span style=\"font-weight: normal;\"><a href=\"#DP_Duplicates\">Duplicates</a></span></li>\n",
    "      <li><span style=\"font-weight: normal;\"><a href=\"#DP_Outliers\">Outliers</a></span></li>\n",
    "    </ol>\n",
    "  <li><span style=\"font-weight: normal;\"><a href=\"./2_FeatureEngineering_MLProject_Group33.ipynb#DP_FeatureEng\">Feature Engineering</a></span></li>\n",
    "  <li><span style = \"font-weight: normal;\"><a href=\"./3_Modeling&Evaluation_MLProject_Group33.ipynb#3\">Modeling & Evaluation</a></ol></li>\n",
    "</ol>"
   ]
  },
  {
   "cell_type": "markdown",
   "id": "a2917b36-e7f5-4609-abc5-788b96c2d759",
   "metadata": {},
   "source": [
    "# <a class='anchor' id='1'></a>\n",
    "\n",
    "<style>\n",
    "@import url('https://fonts.cdnfonts.com/css/avenir-next-lt-pro?styles=29974');\n",
    "</style>\n",
    "\n",
    "<div style=\"background: linear-gradient(to right, #22c1c3, #27b1dd, #2d9cfd, #090979); \n",
    "            padding: 15px; color: white; border-radius: 300px; text-align: center;\">\n",
    "    <center><h1 style=\"margin-left: 100px;margin-top: 10px; margin-bottom: 4px; color: white;\n",
    "                       font-size: 32px; font-family: 'Avenir Next LT Pro', sans-serif;\"><b>1 | Business & Data Understanding</b></h1></center>\n",
    "</div>\n",
    "\n",
    "<br><br>\n",
    "\n",
    "## **🎲 Dataset[<sup>[1]</sup>](https://)**\n",
    "\n",
    "- aaaaaaaaaa\n",
    "\n",
    "<br><br>\n",
    "\n",
    "## **👨‍💻 Project Goals**\n",
    "\n",
    "-\n",
    "\n",
    "<br><br>\n",
    "\n",
    "### **Dataset Attributes: [<sup>[1]</sup>](https://)**\n",
    "\n",
    "<center><b>Table 1 | </b> Dataset Attributes with Descriptions  <br><br>\n",
    "\n",
    "\n",
    "|         |            **ATTRIBUTE**            | **DESCRIPTION**                                                                                                                                                                                                                                           |\n",
    "|:-------:|:-----------------------------------:|:----------------------------------------------------------------------------------------------------------------------------------------------------------------------------------------------------------------------------------------------------------|\n",
    "|  **1**  |            XXXXXXXXXXX            | xxxxxxxxx.                                                                                                                                                                                                                                 |\n",
    "\n",
    "</center> \n",
    "\n",
    "<br><br>"
   ]
  },
  {
   "cell_type": "markdown",
   "id": "67a06702-efb8-4bbe-857d-2c84108a7856",
   "metadata": {},
   "source": [
    "<div style=\"background: linear-gradient(to right, #22c1c3, #27b1dd, #2d9cfd, #090979); \n",
    "            padding: 1px; color: white; border-radius: 500px; text-align: center;\">\n",
    "</div>"
   ]
  },
  {
   "cell_type": "markdown",
   "id": "0d4e666c-131a-42a7-989c-34c4503b3081",
   "metadata": {},
   "source": [
    "## 📚 **Libraries Import**"
   ]
  },
  {
   "cell_type": "code",
   "execution_count": null,
   "id": "bfbbd5c2-3a86-41d6-888a-6236a80adb34",
   "metadata": {},
   "outputs": [],
   "source": [
    "# Imports Gerais\n",
    "import os\n",
    "import sys\n",
    "\n",
    "# Imports Python\n",
    "import numpy as np\n",
    "import pandas as pd  \n",
    "import warnings\n",
    "warnings.filterwarnings(\"ignore\")\n",
    "\n",
    "# xxxxxxxxxxxxx"
   ]
  },
  {
   "cell_type": "markdown",
   "id": "35725aa2-192d-45e0-af00-8caf559e75aa",
   "metadata": {},
   "source": [
    "---"
   ]
  },
  {
   "cell_type": "markdown",
   "id": "3c9871e7-f277-4738-abd6-543cb68c2682",
   "metadata": {},
   "source": [
    "## 🧮 **Import Databases**"
   ]
  },
  {
   "cell_type": "code",
   "execution_count": null,
   "id": "a9913f04-77ee-42db-a731-8429bb4ccd06",
   "metadata": {},
   "outputs": [],
   "source": []
  },
  {
   "cell_type": "markdown",
   "id": "4adbe6cf-c359-4a3f-944b-ec87d33cdcb7",
   "metadata": {
    "tags": []
   },
   "source": [
    "## 📋 **Evaluate Data**"
   ]
  },
  {
   "cell_type": "code",
   "execution_count": null,
   "id": "aebcf088-69e8-48a9-84dc-1aa505691146",
   "metadata": {
    "tags": []
   },
   "outputs": [],
   "source": []
  },
  {
   "cell_type": "markdown",
   "id": "a22bd57f-910b-4a4f-88d9-373b5abd9317",
   "metadata": {},
   "source": [
    "## 🔄 **Duplicates**"
   ]
  },
  {
   "cell_type": "code",
   "execution_count": null,
   "id": "47bb3d22-93c5-4b9f-a362-d0172574a9af",
   "metadata": {},
   "outputs": [],
   "source": []
  },
  {
   "cell_type": "markdown",
   "id": "877b0ce7-64de-45af-8213-7e7180e350a0",
   "metadata": {},
   "source": [
    "### 🔢🔠 **Data Types**"
   ]
  },
  {
   "cell_type": "code",
   "execution_count": null,
   "id": "243c9f66-ce6b-4777-b0b9-25d586e3c2dd",
   "metadata": {},
   "outputs": [],
   "source": []
  },
  {
   "cell_type": "markdown",
   "id": "2ab559ba-b1c5-42c5-b407-4642e2d743d3",
   "metadata": {},
   "source": [
    "### 🔎 **Missing Values and Distinct Values**"
   ]
  },
  {
   "cell_type": "code",
   "execution_count": null,
   "id": "90903261-e9e2-4673-aedf-b78595a99819",
   "metadata": {
    "tags": []
   },
   "outputs": [],
   "source": []
  },
  {
   "cell_type": "markdown",
   "id": "ab7176ee-51e8-4493-8df1-67f553363607",
   "metadata": {},
   "source": [
    "---"
   ]
  },
  {
   "cell_type": "markdown",
   "id": "6180c3b9-c2da-49af-8383-8b4a1cd327a9",
   "metadata": {},
   "source": [
    "# <a class='anchor' id='2'></a>\n",
    "<br>\n",
    "<style>\n",
    "@import url('https://fonts.cdnfonts.com/css/avenir-next-lt-pro?styles=29974');\n",
    "</style>\n",
    "\n",
    "<div style=\"background: linear-gradient(to right, #22c1c3, #27b1dd, #2d9cfd, #090979); \n",
    "            padding: 10px; color: white; border-radius: 300px; text-align: center;\">\n",
    "    <center><h1 style=\"margin-top: 10px; margin-bottom: 4px; color: white;\n",
    "                       font-size: 32px; font-family: 'Avenir Next LT Pro', sans-serif;\">\n",
    "        <b>2 | Data Preparation</b></h1></center>\n",
    "</div>\n",
    "\n",
    "<br><br>"
   ]
  },
  {
   "cell_type": "markdown",
   "id": "ec83e6cc-717b-4899-82cd-c662cf9aa3a3",
   "metadata": {},
   "source": [
    "## 🔧 **Data Pre-Proccessing**"
   ]
  },
  {
   "cell_type": "code",
   "execution_count": null,
   "id": "0d75efed-44fd-4e0b-bc93-1e7ea60bde94",
   "metadata": {},
   "outputs": [],
   "source": []
  },
  {
   "cell_type": "markdown",
   "id": "9f7107ff-3fd7-4edf-97bc-5d3b0662e92f",
   "metadata": {},
   "source": [
    "---"
   ]
  },
  {
   "cell_type": "markdown",
   "id": "2ec347bd-9f52-4017-a1f0-7a436cdf1826",
   "metadata": {},
   "source": [
    "## 🏮 **Outliers**\n",
    "\n",
    "- Detecting Outliers \n",
    "    - **with Visualization Tools:** Box-plots and histograms. \n",
    "    - **with Statistical Tools:** Z-score and IQR.   \n",
    "\n",
    "> **Note:** We will check the outliers in the EDA section because it is easier to visualize them on individual columns anlysis."
   ]
  },
  {
   "cell_type": "code",
   "execution_count": null,
   "id": "03190276-7301-442c-8ce1-fee812c77cff",
   "metadata": {},
   "outputs": [],
   "source": []
  },
  {
   "cell_type": "code",
   "execution_count": null,
   "id": "0cec43a3-285b-430b-b8b0-0953582c478f",
   "metadata": {},
   "outputs": [],
   "source": []
  },
  {
   "cell_type": "markdown",
   "id": "4c072a57-75f9-4b37-a3bc-4f125e7c608c",
   "metadata": {},
   "source": [
    "---"
   ]
  },
  {
   "cell_type": "markdown",
   "id": "db089f09-39cb-4064-83e5-6a2c672a5f2c",
   "metadata": {
    "tags": []
   },
   "source": [
    "## 🔎 **EDA - Exploratory Data Analysis**"
   ]
  },
  {
   "cell_type": "code",
   "execution_count": null,
   "id": "11c21ac2-6c36-498f-b1fd-727017e34d94",
   "metadata": {},
   "outputs": [],
   "source": []
  },
  {
   "cell_type": "code",
   "execution_count": null,
   "id": "7d9bd219-f5fd-4a32-b2df-fa9b3b42da9e",
   "metadata": {},
   "outputs": [],
   "source": []
  },
  {
   "cell_type": "code",
   "execution_count": null,
   "id": "2dc9ea44-021f-45f7-a8d2-6d1973bf7f5a",
   "metadata": {},
   "outputs": [],
   "source": []
  },
  {
   "cell_type": "markdown",
   "id": "f90123d5-f082-4b92-a918-f1e8fc135b30",
   "metadata": {},
   "source": [
    "---"
   ]
  },
  {
   "cell_type": "markdown",
   "id": "3ba846bd-ceab-45b3-8cc9-a4f195af6963",
   "metadata": {},
   "source": [
    "# **💾 Save Data**"
   ]
  },
  {
   "cell_type": "code",
   "execution_count": null,
   "id": "887281d9-0d15-448a-8972-c0ef665e2244",
   "metadata": {},
   "outputs": [],
   "source": []
  },
  {
   "cell_type": "code",
   "execution_count": null,
   "id": "ff45e5a9-6cca-4124-9ebe-f024f2af429b",
   "metadata": {},
   "outputs": [],
   "source": []
  },
  {
   "cell_type": "markdown",
   "id": "eb9332ce-1e40-41bd-a21e-42c08a4ee5a9",
   "metadata": {},
   "source": [
    "---"
   ]
  },
  {
   "cell_type": "markdown",
   "id": "9369136d-6bd2-49c5-a664-4dd201ea34c5",
   "metadata": {},
   "source": [
    "# **🔗 Bibliography/References**\n",
    "\n",
    "**[[1]](https:)**  AAAAAAAAA\n",
    "\n",
    "<br>\n",
    "\n",
    "---"
   ]
  }
 ],
 "metadata": {
  "kernelspec": {
   "display_name": "Python 3",
   "language": "python",
   "name": "python3"
  },
  "language_info": {
   "codemirror_mode": {
    "name": "ipython",
    "version": 3
   },
   "file_extension": ".py",
   "mimetype": "text/x-python",
   "name": "python",
   "nbconvert_exporter": "python",
   "pygments_lexer": "ipython3",
   "version": "3.10.6"
  },
  "toc": {
   "base_numbering": 1,
   "nav_menu": {},
   "number_sections": true,
   "sideBar": true,
   "skip_h1_title": false,
   "title_cell": "Table of Contents",
   "title_sidebar": "Contents",
   "toc_cell": false,
   "toc_position": {},
   "toc_section_display": true,
   "toc_window_display": false
  }
 },
 "nbformat": 4,
 "nbformat_minor": 5
}
