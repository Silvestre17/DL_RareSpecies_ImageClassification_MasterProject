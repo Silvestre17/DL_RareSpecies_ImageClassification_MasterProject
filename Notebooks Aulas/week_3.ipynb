{
 "cells": [
  {
   "cell_type": "code",
   "execution_count": 1,
   "metadata": {},
   "outputs": [],
   "source": [
    "import ssl\n",
    "ssl._create_default_https_context = ssl._create_unverified_context"
   ]
  },
  {
   "cell_type": "code",
   "execution_count": 2,
   "metadata": {},
   "outputs": [],
   "source": [
    "# Python standard library imports\n",
    "from typing import Self, Any\n",
    "from random import sample"
   ]
  },
  {
   "cell_type": "code",
   "execution_count": 3,
   "metadata": {},
   "outputs": [],
   "source": [
    "from numpy import ndarray"
   ]
  },
  {
   "cell_type": "code",
   "execution_count": 4,
   "metadata": {},
   "outputs": [],
   "source": [
    "from matplotlib.pyplot import subplots, show"
   ]
  },
  {
   "cell_type": "code",
   "execution_count": 5,
   "metadata": {},
   "outputs": [],
   "source": [
    "from keras.datasets.cifar10 import load_data as load_cifar10"
   ]
  },
  {
   "cell_type": "code",
   "execution_count": 6,
   "metadata": {},
   "outputs": [],
   "source": [
    "# model building imports\n",
    "from keras import Model, Sequential, Input\n",
    "\n",
    "from keras.layers import Conv2D, MaxPooling2D, Flatten, Dense\n",
    "from keras.layers import LeakyReLU\n",
    "from keras.ops import add\n",
    "from keras.utils import to_categorical"
   ]
  },
  {
   "cell_type": "code",
   "execution_count": null,
   "metadata": {},
   "outputs": [],
   "source": [
    "# model training imports\n",
    "# from keras.optimizers import SGD\n",
    "from keras.losses import CategoricalCrossentropy\n",
    "from keras.metrics import CategoricalAccuracy, AUC, F1Score\n",
    "from keras.callbacks import ModelCheckpoint, CSVLogger, LearningRateScheduler"
   ]
  },
  {
   "cell_type": "markdown",
   "metadata": {},
   "source": [
    "<div class=\"alert alert-block alert-info\" style=\"color: white; background-color: rgb(61, 191, 206); border: 0px; -moz-border-radius: 10px; -webkit-border-radius: 10px;\">\n",
    "\n",
    "### **CIFAR-10 Image Classification with CNN**\n",
    "\n",
    "</div>\n",
    "\n",
    "- **Shape** : (32, 32, 3) - tensor\n",
    "- **Classes** : 10 \n",
    "\n",
    "1. Convolutional Neural Network (CNN) is used for image classification.\n",
    "2. Non-linear activation layer\n",
    "3. MaxPooling\n",
    "\n",
    "**1 + 2 + 3 = Convolutional Block** $\\rightarrow$ $(16, 16, 3 \\times nºfilters)$    \n",
    "\n",
    "**1.1 + 2.1 + 3.1 = Convolutional Block** $\\rightarrow$ $(8, 8, 3 \\times nºfilters)$\n",
    "\n",
    "4. Flatten [...]  $\\rightarrow$ (d, )-tensor\n",
    "\n",
    "5. Dense Layer (Fully Connected Layer) $\\rightarrow$ (d, nºclasses )-tensor\n",
    "\n",
    "6. Activation function: ***Softmax*** (em cada valor do vetor)\n",
    "\n",
    "<center>\n",
    "\n",
    "<img src=\"https://miro.medium.com/v2/resize:fit:1400/1*vkQ0hXDaQv57sALXAJquxA.jpeg\" height=\"500\" />\n",
    "\n",
    "<br><br>\n",
    "\n",
    "<img src=\"https://www.researchgate.net/publication/357227156/figure/fig1/AS:1112913834196995@1642350743618/Schematics-for-the-structures-of-deep-learning-algorithms-A-Neural-network-of-FCN-with.png\" height=\"500\" />\n",
    "\n",
    "</center>\n",
    "\n"
   ]
  },
  {
   "cell_type": "code",
   "execution_count": 8,
   "metadata": {},
   "outputs": [],
   "source": [
    "# CIFAR-10\n",
    "\n",
    "# specify input_shape and number of classes\n",
    "input_shape = (32, 32, 3) # RGB\n",
    "n_classes = 10\n",
    "\n",
    "# 0. airplane\n",
    "# 1. car\n",
    "# 2. bird\n",
    "# 3. cat\n",
    "# 4. deer\n",
    "# 5. dog\n",
    "# 6. frog\n",
    "# 7. horse\n",
    "# 8. ship\n",
    "# 9. truck"
   ]
  },
  {
   "cell_type": "code",
   "execution_count": 9,
   "metadata": {},
   "outputs": [],
   "source": [
    "# get a sample images dataset\n",
    "(X_train, y_train), (X_test, y_test) = load_cifar10()"
   ]
  },
  {
   "cell_type": "code",
   "execution_count": 10,
   "metadata": {},
   "outputs": [],
   "source": [
    "def show_image(array: ndarray) -> None:\n",
    "    \"\"\"\n",
    "    Prints image encoded as a numpy array (uint8)\n",
    "    \"\"\"\n",
    "\n",
    "    figure, axis = subplots(frameon=False)\n",
    "    axis.imshow(array, aspect=\"equal\")\n",
    "    axis.set_axis_off()\n",
    "    show()"
   ]
  },
  {
   "cell_type": "code",
   "execution_count": 11,
   "metadata": {},
   "outputs": [
    {
     "data": {
      "image/png": "[encoded data removed]",
      "text/plain": [
       "<Figure size 640x480 with 1 Axes>"
      ]
     },
     "metadata": {},
     "output_type": "display_data"
    }
   ],
   "source": [
    "# Show example\n",
    "train_idx = 0\n",
    "train_example = X_train[train_idx]\n",
    "show_image(train_example)"
   ]
  },
  {
   "cell_type": "code",
   "execution_count": 12,
   "metadata": {},
   "outputs": [
    {
     "data": {
      "text/plain": [
       "array([6], dtype=uint8)"
      ]
     },
     "execution_count": 12,
     "metadata": {},
     "output_type": "execute_result"
    }
   ],
   "source": [
    "y_train[0]"
   ]
  },
  {
   "cell_type": "code",
   "execution_count": 13,
   "metadata": {},
   "outputs": [],
   "source": [
    "def normalize(array: ndarray) -> ndarray:\n",
    "    \"\"\"\n",
    "    Converts the type of an ndarray to float32 and normalizes over the pixel\n",
    "    range of values\n",
    "    \"\"\"\n",
    "\n",
    "    return array.astype(\"float32\") / 255.0"
   ]
  },
  {
   "cell_type": "markdown",
   "metadata": {},
   "source": [
    "<div class=\"alert alert-block alert-info\" style=\"color: white; background-color: rgb(61, 191, 206); border: 0px; -moz-border-radius: 10px; -webkit-border-radius: 10px;\">\n",
    "\n",
    "### **Normalization**\n",
    "\n",
    "</div>\n",
    "\n",
    "\n",
    "- $(32, 32, 3)$ | int 8 - [0, 255] **$\\rightarrow$ [0, 1] | float32**\n"
   ]
  },
  {
   "cell_type": "code",
   "execution_count": 14,
   "metadata": {},
   "outputs": [],
   "source": [
    "# for the sake of your precious RAM, sample the training and test set\n",
    "# plus, normalize the images and convert the ys to one-hot\n",
    "n_train, n_test = 1024, 128\n",
    "\n",
    "train_idxs = sample(range(len(X_train)), k=n_train)\n",
    "X_train = normalize(X_train[train_idxs])\n",
    "y_train = to_categorical(y_train[train_idxs], n_classes)\n",
    "\n",
    "test_idxs = sample(range(len(X_test)), k=n_test)\n",
    "X_test = normalize(X_test[test_idxs])\n",
    "y_test = to_categorical(y_test[test_idxs], n_classes)"
   ]
  },
  {
   "cell_type": "code",
   "execution_count": 15,
   "metadata": {},
   "outputs": [],
   "source": [
    "# The 3 ways to build a deep learning model with keras:"
   ]
  },
  {
   "cell_type": "code",
   "execution_count": 16,
   "metadata": {},
   "outputs": [
    {
     "data": {
      "text/html": [
       "<pre style=\"white-space:pre;overflow-x:auto;line-height:normal;font-family:Menlo,'DejaVu Sans Mono',consolas,'Courier New',monospace\"><span style=\"font-weight: bold\">Model: \"my_tiny_sequential_cnn\"</span>\n",
       "</pre>\n"
      ],
      "text/plain": [
       "\u001b[1mModel: \"my_tiny_sequential_cnn\"\u001b[0m\n"
      ]
     },
     "metadata": {},
     "output_type": "display_data"
    },
    {
     "data": {
      "text/html": [
       "<pre style=\"white-space:pre;overflow-x:auto;line-height:normal;font-family:Menlo,'DejaVu Sans Mono',consolas,'Courier New',monospace\">┏━━━━━━━━━━━━━━━━━━━━━━━━━━━━━━━━━┳━━━━━━━━━━━━━━━━━━━━━━━━┳━━━━━━━━━━━━━━━┓\n",
       "┃<span style=\"font-weight: bold\"> Layer (type)                    </span>┃<span style=\"font-weight: bold\"> Output Shape           </span>┃<span style=\"font-weight: bold\">       Param # </span>┃\n",
       "┡━━━━━━━━━━━━━━━━━━━━━━━━━━━━━━━━━╇━━━━━━━━━━━━━━━━━━━━━━━━╇━━━━━━━━━━━━━━━┩\n",
       "│ conv2d (<span style=\"color: #0087ff; text-decoration-color: #0087ff\">Conv2D</span>)                 │ (<span style=\"color: #00d7ff; text-decoration-color: #00d7ff\">None</span>, <span style=\"color: #00af00; text-decoration-color: #00af00\">30</span>, <span style=\"color: #00af00; text-decoration-color: #00af00\">30</span>, <span style=\"color: #00af00; text-decoration-color: #00af00\">24</span>)     │           <span style=\"color: #00af00; text-decoration-color: #00af00\">672</span> │\n",
       "├─────────────────────────────────┼────────────────────────┼───────────────┤\n",
       "│ max_pooling2d (<span style=\"color: #0087ff; text-decoration-color: #0087ff\">MaxPooling2D</span>)    │ (<span style=\"color: #00d7ff; text-decoration-color: #00d7ff\">None</span>, <span style=\"color: #00af00; text-decoration-color: #00af00\">15</span>, <span style=\"color: #00af00; text-decoration-color: #00af00\">15</span>, <span style=\"color: #00af00; text-decoration-color: #00af00\">24</span>)     │             <span style=\"color: #00af00; text-decoration-color: #00af00\">0</span> │\n",
       "├─────────────────────────────────┼────────────────────────┼───────────────┤\n",
       "│ conv2d_1 (<span style=\"color: #0087ff; text-decoration-color: #0087ff\">Conv2D</span>)               │ (<span style=\"color: #00d7ff; text-decoration-color: #00d7ff\">None</span>, <span style=\"color: #00af00; text-decoration-color: #00af00\">13</span>, <span style=\"color: #00af00; text-decoration-color: #00af00\">13</span>, <span style=\"color: #00af00; text-decoration-color: #00af00\">48</span>)     │        <span style=\"color: #00af00; text-decoration-color: #00af00\">10,416</span> │\n",
       "├─────────────────────────────────┼────────────────────────┼───────────────┤\n",
       "│ max_pooling2d_1 (<span style=\"color: #0087ff; text-decoration-color: #0087ff\">MaxPooling2D</span>)  │ (<span style=\"color: #00d7ff; text-decoration-color: #00d7ff\">None</span>, <span style=\"color: #00af00; text-decoration-color: #00af00\">6</span>, <span style=\"color: #00af00; text-decoration-color: #00af00\">6</span>, <span style=\"color: #00af00; text-decoration-color: #00af00\">48</span>)       │             <span style=\"color: #00af00; text-decoration-color: #00af00\">0</span> │\n",
       "├─────────────────────────────────┼────────────────────────┼───────────────┤\n",
       "│ flatten (<span style=\"color: #0087ff; text-decoration-color: #0087ff\">Flatten</span>)               │ (<span style=\"color: #00d7ff; text-decoration-color: #00d7ff\">None</span>, <span style=\"color: #00af00; text-decoration-color: #00af00\">1728</span>)           │             <span style=\"color: #00af00; text-decoration-color: #00af00\">0</span> │\n",
       "├─────────────────────────────────┼────────────────────────┼───────────────┤\n",
       "│ dense (<span style=\"color: #0087ff; text-decoration-color: #0087ff\">Dense</span>)                   │ (<span style=\"color: #00d7ff; text-decoration-color: #00d7ff\">None</span>, <span style=\"color: #00af00; text-decoration-color: #00af00\">10</span>)             │        <span style=\"color: #00af00; text-decoration-color: #00af00\">17,290</span> │\n",
       "└─────────────────────────────────┴────────────────────────┴───────────────┘\n",
       "</pre>\n"
      ],
      "text/plain": [
       "┏━━━━━━━━━━━━━━━━━━━━━━━━━━━━━━━━━┳━━━━━━━━━━━━━━━━━━━━━━━━┳━━━━━━━━━━━━━━━┓\n",
       "┃\u001b[1m \u001b[0m\u001b[1mLayer (type)                   \u001b[0m\u001b[1m \u001b[0m┃\u001b[1m \u001b[0m\u001b[1mOutput Shape          \u001b[0m\u001b[1m \u001b[0m┃\u001b[1m \u001b[0m\u001b[1m      Param #\u001b[0m\u001b[1m \u001b[0m┃\n",
       "┡━━━━━━━━━━━━━━━━━━━━━━━━━━━━━━━━━╇━━━━━━━━━━━━━━━━━━━━━━━━╇━━━━━━━━━━━━━━━┩\n",
       "│ conv2d (\u001b[38;5;33mConv2D\u001b[0m)                 │ (\u001b[38;5;45mNone\u001b[0m, \u001b[38;5;34m30\u001b[0m, \u001b[38;5;34m30\u001b[0m, \u001b[38;5;34m24\u001b[0m)     │           \u001b[38;5;34m672\u001b[0m │\n",
       "├─────────────────────────────────┼────────────────────────┼───────────────┤\n",
       "│ max_pooling2d (\u001b[38;5;33mMaxPooling2D\u001b[0m)    │ (\u001b[38;5;45mNone\u001b[0m, \u001b[38;5;34m15\u001b[0m, \u001b[38;5;34m15\u001b[0m, \u001b[38;5;34m24\u001b[0m)     │             \u001b[38;5;34m0\u001b[0m │\n",
       "├─────────────────────────────────┼────────────────────────┼───────────────┤\n",
       "│ conv2d_1 (\u001b[38;5;33mConv2D\u001b[0m)               │ (\u001b[38;5;45mNone\u001b[0m, \u001b[38;5;34m13\u001b[0m, \u001b[38;5;34m13\u001b[0m, \u001b[38;5;34m48\u001b[0m)     │        \u001b[38;5;34m10,416\u001b[0m │\n",
       "├─────────────────────────────────┼────────────────────────┼───────────────┤\n",
       "│ max_pooling2d_1 (\u001b[38;5;33mMaxPooling2D\u001b[0m)  │ (\u001b[38;5;45mNone\u001b[0m, \u001b[38;5;34m6\u001b[0m, \u001b[38;5;34m6\u001b[0m, \u001b[38;5;34m48\u001b[0m)       │             \u001b[38;5;34m0\u001b[0m │\n",
       "├─────────────────────────────────┼────────────────────────┼───────────────┤\n",
       "│ flatten (\u001b[38;5;33mFlatten\u001b[0m)               │ (\u001b[38;5;45mNone\u001b[0m, \u001b[38;5;34m1728\u001b[0m)           │             \u001b[38;5;34m0\u001b[0m │\n",
       "├─────────────────────────────────┼────────────────────────┼───────────────┤\n",
       "│ dense (\u001b[38;5;33mDense\u001b[0m)                   │ (\u001b[38;5;45mNone\u001b[0m, \u001b[38;5;34m10\u001b[0m)             │        \u001b[38;5;34m17,290\u001b[0m │\n",
       "└─────────────────────────────────┴────────────────────────┴───────────────┘\n"
      ]
     },
     "metadata": {},
     "output_type": "display_data"
    },
    {
     "data": {
      "text/html": [
       "<pre style=\"white-space:pre;overflow-x:auto;line-height:normal;font-family:Menlo,'DejaVu Sans Mono',consolas,'Courier New',monospace\"><span style=\"font-weight: bold\"> Total params: </span><span style=\"color: #00af00; text-decoration-color: #00af00\">28,378</span> (110.85 KB)\n",
       "</pre>\n"
      ],
      "text/plain": [
       "\u001b[1m Total params: \u001b[0m\u001b[38;5;34m28,378\u001b[0m (110.85 KB)\n"
      ]
     },
     "metadata": {},
     "output_type": "display_data"
    },
    {
     "data": {
      "text/html": [
       "<pre style=\"white-space:pre;overflow-x:auto;line-height:normal;font-family:Menlo,'DejaVu Sans Mono',consolas,'Courier New',monospace\"><span style=\"font-weight: bold\"> Trainable params: </span><span style=\"color: #00af00; text-decoration-color: #00af00\">28,378</span> (110.85 KB)\n",
       "</pre>\n"
      ],
      "text/plain": [
       "\u001b[1m Trainable params: \u001b[0m\u001b[38;5;34m28,378\u001b[0m (110.85 KB)\n"
      ]
     },
     "metadata": {},
     "output_type": "display_data"
    },
    {
     "data": {
      "text/html": [
       "<pre style=\"white-space:pre;overflow-x:auto;line-height:normal;font-family:Menlo,'DejaVu Sans Mono',consolas,'Courier New',monospace\"><span style=\"font-weight: bold\"> Non-trainable params: </span><span style=\"color: #00af00; text-decoration-color: #00af00\">0</span> (0.00 B)\n",
       "</pre>\n"
      ],
      "text/plain": [
       "\u001b[1m Non-trainable params: \u001b[0m\u001b[38;5;34m0\u001b[0m (0.00 B)\n"
      ]
     },
     "metadata": {},
     "output_type": "display_data"
    }
   ],
   "source": [
    "# by calling Sequential:\n",
    "model = Sequential(\n",
    "    layers = [\n",
    "        Input(shape=input_shape),\n",
    "        Conv2D(filters=3 * 8, kernel_size=(3, 3), activation=\"relu\"),\n",
    "        MaxPooling2D(pool_size=(2, 2)),\n",
    "        Conv2D(filters=3 * 16, kernel_size=(3, 3), activation=\"relu\"),\n",
    "        MaxPooling2D(pool_size=(2, 2)),\n",
    "        Flatten(),\n",
    "        # input size is infered\n",
    "        Dense(n_classes, activation=\"softmax\"),\n",
    "    ],\n",
    "    name = \"my_tiny_sequential_cnn\"\n",
    ")\n",
    "\n",
    "model.summary()"
   ]
  },
  {
   "cell_type": "markdown",
   "metadata": {},
   "source": [
    "<div class=\"alert alert-block alert-info\" style=\"color: white; background-color: rgb(61, 191, 206); border: 0px; -moz-border-radius: 10px; -webkit-border-radius: 10px;\">\n",
    "\n",
    "### **Keras Model**\n",
    "\n",
    "</div>\n",
    "\n",
    "-**`None`** : batch size is not fixed and can be changed\n",
    "\n",
    "- **Filters**: Keras `n_filters` will be the last shape of the output tensor.\n"
   ]
  },
  {
   "cell_type": "code",
   "execution_count": 17,
   "metadata": {},
   "outputs": [],
   "source": [
    "def get_my_tiny_functional_cnn() -> Model:\n",
    "    \"\"\"\n",
    "    Constructs \"my_tiny_functional_cnn\"\n",
    "    \"\"\"\n",
    "\n",
    "    conv_layer_1 = Conv2D(\n",
    "        filters=3 * 8,\n",
    "        kernel_size=(3, 3),\n",
    "        activation=\"relu\",\n",
    "        name=\"conv_layer_1\"\n",
    "    )\n",
    "    max_pool_layer_1 = MaxPooling2D(pool_size=(2, 2), name=\"max_pool_layer_1\")\n",
    "\n",
    "    conv_layer_2 = Conv2D(\n",
    "        filters=3 * 16,\n",
    "        kernel_size=(3, 3),\n",
    "        name=\"conv_layer_2\"\n",
    "    )\n",
    "    act_layer_2 = LeakyReLU(negative_slope=0.3, name=\"act_layer_2\")\n",
    "    max_pool_layer_2 = MaxPooling2D(pool_size=(2, 2), name=\"max_pool_layer_2\")\n",
    "\n",
    "    flatten_layer = Flatten(name=\"flatten_layer\")\n",
    "    dense_layer = Dense(\n",
    "        n_classes,\n",
    "        activation=\"softmax\",\n",
    "        name=\"classification_head\"\n",
    "    )\n",
    "\n",
    "\n",
    "    inputs = Input(shape=input_shape)\n",
    "    x = inputs\n",
    "\n",
    "    x = conv_layer_1(x)\n",
    "    x = max_pool_layer_1(x)\n",
    "\n",
    "    x = conv_layer_2(x)\n",
    "    x = act_layer_2(x)\n",
    "    x = max_pool_layer_2(x)\n",
    "\n",
    "    x = flatten_layer(x)\n",
    "    x = dense_layer(x)\n",
    "\n",
    "    outputs = x\n",
    "\n",
    "    return Model(inputs=inputs, outputs=outputs, name=\"my_tiny_functional_cnn\")"
   ]
  },
  {
   "cell_type": "code",
   "execution_count": 18,
   "metadata": {},
   "outputs": [
    {
     "data": {
      "text/html": [
       "<pre style=\"white-space:pre;overflow-x:auto;line-height:normal;font-family:Menlo,'DejaVu Sans Mono',consolas,'Courier New',monospace\"><span style=\"font-weight: bold\">Model: \"my_tiny_functional_cnn\"</span>\n",
       "</pre>\n"
      ],
      "text/plain": [
       "\u001b[1mModel: \"my_tiny_functional_cnn\"\u001b[0m\n"
      ]
     },
     "metadata": {},
     "output_type": "display_data"
    },
    {
     "data": {
      "text/html": [
       "<pre style=\"white-space:pre;overflow-x:auto;line-height:normal;font-family:Menlo,'DejaVu Sans Mono',consolas,'Courier New',monospace\">┏━━━━━━━━━━━━━━━━━━━━━━━━━━━━━━━━━┳━━━━━━━━━━━━━━━━━━━━━━━━┳━━━━━━━━━━━━━━━┓\n",
       "┃<span style=\"font-weight: bold\"> Layer (type)                    </span>┃<span style=\"font-weight: bold\"> Output Shape           </span>┃<span style=\"font-weight: bold\">       Param # </span>┃\n",
       "┡━━━━━━━━━━━━━━━━━━━━━━━━━━━━━━━━━╇━━━━━━━━━━━━━━━━━━━━━━━━╇━━━━━━━━━━━━━━━┩\n",
       "│ input_layer_1 (<span style=\"color: #0087ff; text-decoration-color: #0087ff\">InputLayer</span>)      │ (<span style=\"color: #00d7ff; text-decoration-color: #00d7ff\">None</span>, <span style=\"color: #00af00; text-decoration-color: #00af00\">32</span>, <span style=\"color: #00af00; text-decoration-color: #00af00\">32</span>, <span style=\"color: #00af00; text-decoration-color: #00af00\">3</span>)      │             <span style=\"color: #00af00; text-decoration-color: #00af00\">0</span> │\n",
       "├─────────────────────────────────┼────────────────────────┼───────────────┤\n",
       "│ conv_layer_1 (<span style=\"color: #0087ff; text-decoration-color: #0087ff\">Conv2D</span>)           │ (<span style=\"color: #00d7ff; text-decoration-color: #00d7ff\">None</span>, <span style=\"color: #00af00; text-decoration-color: #00af00\">30</span>, <span style=\"color: #00af00; text-decoration-color: #00af00\">30</span>, <span style=\"color: #00af00; text-decoration-color: #00af00\">24</span>)     │           <span style=\"color: #00af00; text-decoration-color: #00af00\">672</span> │\n",
       "├─────────────────────────────────┼────────────────────────┼───────────────┤\n",
       "│ max_pool_layer_1 (<span style=\"color: #0087ff; text-decoration-color: #0087ff\">MaxPooling2D</span>) │ (<span style=\"color: #00d7ff; text-decoration-color: #00d7ff\">None</span>, <span style=\"color: #00af00; text-decoration-color: #00af00\">15</span>, <span style=\"color: #00af00; text-decoration-color: #00af00\">15</span>, <span style=\"color: #00af00; text-decoration-color: #00af00\">24</span>)     │             <span style=\"color: #00af00; text-decoration-color: #00af00\">0</span> │\n",
       "├─────────────────────────────────┼────────────────────────┼───────────────┤\n",
       "│ conv_layer_2 (<span style=\"color: #0087ff; text-decoration-color: #0087ff\">Conv2D</span>)           │ (<span style=\"color: #00d7ff; text-decoration-color: #00d7ff\">None</span>, <span style=\"color: #00af00; text-decoration-color: #00af00\">13</span>, <span style=\"color: #00af00; text-decoration-color: #00af00\">13</span>, <span style=\"color: #00af00; text-decoration-color: #00af00\">48</span>)     │        <span style=\"color: #00af00; text-decoration-color: #00af00\">10,416</span> │\n",
       "├─────────────────────────────────┼────────────────────────┼───────────────┤\n",
       "│ act_layer_2 (<span style=\"color: #0087ff; text-decoration-color: #0087ff\">LeakyReLU</span>)         │ (<span style=\"color: #00d7ff; text-decoration-color: #00d7ff\">None</span>, <span style=\"color: #00af00; text-decoration-color: #00af00\">13</span>, <span style=\"color: #00af00; text-decoration-color: #00af00\">13</span>, <span style=\"color: #00af00; text-decoration-color: #00af00\">48</span>)     │             <span style=\"color: #00af00; text-decoration-color: #00af00\">0</span> │\n",
       "├─────────────────────────────────┼────────────────────────┼───────────────┤\n",
       "│ max_pool_layer_2 (<span style=\"color: #0087ff; text-decoration-color: #0087ff\">MaxPooling2D</span>) │ (<span style=\"color: #00d7ff; text-decoration-color: #00d7ff\">None</span>, <span style=\"color: #00af00; text-decoration-color: #00af00\">6</span>, <span style=\"color: #00af00; text-decoration-color: #00af00\">6</span>, <span style=\"color: #00af00; text-decoration-color: #00af00\">48</span>)       │             <span style=\"color: #00af00; text-decoration-color: #00af00\">0</span> │\n",
       "├─────────────────────────────────┼────────────────────────┼───────────────┤\n",
       "│ flatten_layer (<span style=\"color: #0087ff; text-decoration-color: #0087ff\">Flatten</span>)         │ (<span style=\"color: #00d7ff; text-decoration-color: #00d7ff\">None</span>, <span style=\"color: #00af00; text-decoration-color: #00af00\">1728</span>)           │             <span style=\"color: #00af00; text-decoration-color: #00af00\">0</span> │\n",
       "├─────────────────────────────────┼────────────────────────┼───────────────┤\n",
       "│ classification_head (<span style=\"color: #0087ff; text-decoration-color: #0087ff\">Dense</span>)     │ (<span style=\"color: #00d7ff; text-decoration-color: #00d7ff\">None</span>, <span style=\"color: #00af00; text-decoration-color: #00af00\">10</span>)             │        <span style=\"color: #00af00; text-decoration-color: #00af00\">17,290</span> │\n",
       "└─────────────────────────────────┴────────────────────────┴───────────────┘\n",
       "</pre>\n"
      ],
      "text/plain": [
       "┏━━━━━━━━━━━━━━━━━━━━━━━━━━━━━━━━━┳━━━━━━━━━━━━━━━━━━━━━━━━┳━━━━━━━━━━━━━━━┓\n",
       "┃\u001b[1m \u001b[0m\u001b[1mLayer (type)                   \u001b[0m\u001b[1m \u001b[0m┃\u001b[1m \u001b[0m\u001b[1mOutput Shape          \u001b[0m\u001b[1m \u001b[0m┃\u001b[1m \u001b[0m\u001b[1m      Param #\u001b[0m\u001b[1m \u001b[0m┃\n",
       "┡━━━━━━━━━━━━━━━━━━━━━━━━━━━━━━━━━╇━━━━━━━━━━━━━━━━━━━━━━━━╇━━━━━━━━━━━━━━━┩\n",
       "│ input_layer_1 (\u001b[38;5;33mInputLayer\u001b[0m)      │ (\u001b[38;5;45mNone\u001b[0m, \u001b[38;5;34m32\u001b[0m, \u001b[38;5;34m32\u001b[0m, \u001b[38;5;34m3\u001b[0m)      │             \u001b[38;5;34m0\u001b[0m │\n",
       "├─────────────────────────────────┼────────────────────────┼───────────────┤\n",
       "│ conv_layer_1 (\u001b[38;5;33mConv2D\u001b[0m)           │ (\u001b[38;5;45mNone\u001b[0m, \u001b[38;5;34m30\u001b[0m, \u001b[38;5;34m30\u001b[0m, \u001b[38;5;34m24\u001b[0m)     │           \u001b[38;5;34m672\u001b[0m │\n",
       "├─────────────────────────────────┼────────────────────────┼───────────────┤\n",
       "│ max_pool_layer_1 (\u001b[38;5;33mMaxPooling2D\u001b[0m) │ (\u001b[38;5;45mNone\u001b[0m, \u001b[38;5;34m15\u001b[0m, \u001b[38;5;34m15\u001b[0m, \u001b[38;5;34m24\u001b[0m)     │             \u001b[38;5;34m0\u001b[0m │\n",
       "├─────────────────────────────────┼────────────────────────┼───────────────┤\n",
       "│ conv_layer_2 (\u001b[38;5;33mConv2D\u001b[0m)           │ (\u001b[38;5;45mNone\u001b[0m, \u001b[38;5;34m13\u001b[0m, \u001b[38;5;34m13\u001b[0m, \u001b[38;5;34m48\u001b[0m)     │        \u001b[38;5;34m10,416\u001b[0m │\n",
       "├─────────────────────────────────┼────────────────────────┼───────────────┤\n",
       "│ act_layer_2 (\u001b[38;5;33mLeakyReLU\u001b[0m)         │ (\u001b[38;5;45mNone\u001b[0m, \u001b[38;5;34m13\u001b[0m, \u001b[38;5;34m13\u001b[0m, \u001b[38;5;34m48\u001b[0m)     │             \u001b[38;5;34m0\u001b[0m │\n",
       "├─────────────────────────────────┼────────────────────────┼───────────────┤\n",
       "│ max_pool_layer_2 (\u001b[38;5;33mMaxPooling2D\u001b[0m) │ (\u001b[38;5;45mNone\u001b[0m, \u001b[38;5;34m6\u001b[0m, \u001b[38;5;34m6\u001b[0m, \u001b[38;5;34m48\u001b[0m)       │             \u001b[38;5;34m0\u001b[0m │\n",
       "├─────────────────────────────────┼────────────────────────┼───────────────┤\n",
       "│ flatten_layer (\u001b[38;5;33mFlatten\u001b[0m)         │ (\u001b[38;5;45mNone\u001b[0m, \u001b[38;5;34m1728\u001b[0m)           │             \u001b[38;5;34m0\u001b[0m │\n",
       "├─────────────────────────────────┼────────────────────────┼───────────────┤\n",
       "│ classification_head (\u001b[38;5;33mDense\u001b[0m)     │ (\u001b[38;5;45mNone\u001b[0m, \u001b[38;5;34m10\u001b[0m)             │        \u001b[38;5;34m17,290\u001b[0m │\n",
       "└─────────────────────────────────┴────────────────────────┴───────────────┘\n"
      ]
     },
     "metadata": {},
     "output_type": "display_data"
    },
    {
     "data": {
      "text/html": [
       "<pre style=\"white-space:pre;overflow-x:auto;line-height:normal;font-family:Menlo,'DejaVu Sans Mono',consolas,'Courier New',monospace\"><span style=\"font-weight: bold\"> Total params: </span><span style=\"color: #00af00; text-decoration-color: #00af00\">28,378</span> (110.85 KB)\n",
       "</pre>\n"
      ],
      "text/plain": [
       "\u001b[1m Total params: \u001b[0m\u001b[38;5;34m28,378\u001b[0m (110.85 KB)\n"
      ]
     },
     "metadata": {},
     "output_type": "display_data"
    },
    {
     "data": {
      "text/html": [
       "<pre style=\"white-space:pre;overflow-x:auto;line-height:normal;font-family:Menlo,'DejaVu Sans Mono',consolas,'Courier New',monospace\"><span style=\"font-weight: bold\"> Trainable params: </span><span style=\"color: #00af00; text-decoration-color: #00af00\">28,378</span> (110.85 KB)\n",
       "</pre>\n"
      ],
      "text/plain": [
       "\u001b[1m Trainable params: \u001b[0m\u001b[38;5;34m28,378\u001b[0m (110.85 KB)\n"
      ]
     },
     "metadata": {},
     "output_type": "display_data"
    },
    {
     "data": {
      "text/html": [
       "<pre style=\"white-space:pre;overflow-x:auto;line-height:normal;font-family:Menlo,'DejaVu Sans Mono',consolas,'Courier New',monospace\"><span style=\"font-weight: bold\"> Non-trainable params: </span><span style=\"color: #00af00; text-decoration-color: #00af00\">0</span> (0.00 B)\n",
       "</pre>\n"
      ],
      "text/plain": [
       "\u001b[1m Non-trainable params: \u001b[0m\u001b[38;5;34m0\u001b[0m (0.00 B)\n"
      ]
     },
     "metadata": {},
     "output_type": "display_data"
    }
   ],
   "source": [
    "model = get_my_tiny_functional_cnn()\n",
    "model.summary()"
   ]
  },
  {
   "cell_type": "code",
   "execution_count": null,
   "metadata": {},
   "outputs": [],
   "source": [
    "class MyTinyCNN(Model):\n",
    "    \"\"\"\n",
    "    MyTinyCNN class, inherets from keras' Model class\n",
    "    \"\"\"\n",
    "\n",
    "    def __init__(self: Self, activation: str = \"relu\") -> None:\n",
    "        \"\"\"\n",
    "        Initialization\n",
    "        \"\"\"\n",
    "\n",
    "        super().__init__(name=\"my_tiny_oo_cnn\")\n",
    "\n",
    "        self.conv_layer_1 = Conv2D(\n",
    "            filters=3 * 8,\n",
    "            kernel_size=(3, 3),\n",
    "            activation=activation,\n",
    "            name=\"conv_layer_1\"\n",
    "        )\n",
    "        self.max_pool_layer_1 = MaxPooling2D(\n",
    "            pool_size=(2, 2),\n",
    "            name=\"max_pool_layer_1\"\n",
    "        )\n",
    "\n",
    "        # exemplify non-sequential nature of computation possible with\n",
    "        # the functional and object-oriented methods\n",
    "        self.conv_layer_2l = Conv2D(\n",
    "            filters=3 * 16,\n",
    "            kernel_size=(3, 3),\n",
    "            activation=activation,\n",
    "            name=\"conv_layer_2l\",\n",
    "            padding=\"same\"\n",
    "        )\n",
    "        self.conv_layer_2r = Conv2D(\n",
    "            filters=3 * 16,\n",
    "            kernel_size=(2, 2),\n",
    "            activation=activation,\n",
    "            name=\"conv_layer_2r\",\n",
    "            padding=\"same\"\n",
    "        )\n",
    "        self.max_pool_layer_2 = MaxPooling2D(\n",
    "            pool_size=(2, 2),\n",
    "            name=\"max_pool_layer_2\"\n",
    "        )\n",
    "\n",
    "        self.flatten_layer = Flatten(name=\"flatten_layer\")\n",
    "        self.dense_layer = Dense(\n",
    "            n_classes,\n",
    "            activation=\"softmax\",\n",
    "            name=\"classification_head\"\n",
    "        )\n",
    "\n",
    "    def call(self: Self, inputs: Any) -> Any:\n",
    "        \"\"\"\n",
    "        Forward call\n",
    "        \"\"\"\n",
    "\n",
    "        x = inputs\n",
    "\n",
    "        x = self.conv_layer_1(x)\n",
    "        x = self.max_pool_layer_1(x)\n",
    "\n",
    "        # exemplify non-sequential nature of computation possible with\n",
    "        # the functional and object-oriented methods\n",
    "        x_l = self.conv_layer_2l(x)\n",
    "        x_r = self.conv_layer_2r(x)\n",
    "        x = add(x_l, x_r)\n",
    "        x = self.max_pool_layer_2(x)\n",
    "\n",
    "        x = self.flatten_layer(x)\n",
    "\n",
    "        return  self.dense_layer(x)"
   ]
  },
  {
   "cell_type": "code",
   "execution_count": null,
   "metadata": {},
   "outputs": [
    {
     "data": {
      "text/html": [
       "<pre style=\"white-space:pre;overflow-x:auto;line-height:normal;font-family:Menlo,'DejaVu Sans Mono',consolas,'Courier New',monospace\"><span style=\"font-weight: bold\">Model: \"my_tiny_oo_cnn\"</span>\n",
       "</pre>\n"
      ],
      "text/plain": [
       "\u001b[1mModel: \"my_tiny_oo_cnn\"\u001b[0m\n"
      ]
     },
     "metadata": {},
     "output_type": "display_data"
    },
    {
     "data": {
      "text/html": [
       "<pre style=\"white-space:pre;overflow-x:auto;line-height:normal;font-family:Menlo,'DejaVu Sans Mono',consolas,'Courier New',monospace\">┏━━━━━━━━━━━━━━━━━━━━━━━━━━━━━━━━━┳━━━━━━━━━━━━━━━━━━━━━━━━┳━━━━━━━━━━━━━━━┓\n",
       "┃<span style=\"font-weight: bold\"> Layer (type)                    </span>┃<span style=\"font-weight: bold\"> Output Shape           </span>┃<span style=\"font-weight: bold\">       Param # </span>┃\n",
       "┡━━━━━━━━━━━━━━━━━━━━━━━━━━━━━━━━━╇━━━━━━━━━━━━━━━━━━━━━━━━╇━━━━━━━━━━━━━━━┩\n",
       "│ conv_layer_1 (<span style=\"color: #0087ff; text-decoration-color: #0087ff\">Conv2D</span>)           │ ?                      │   <span style=\"color: #00af00; text-decoration-color: #00af00\">0</span> (unbuilt) │\n",
       "├─────────────────────────────────┼────────────────────────┼───────────────┤\n",
       "│ max_pool_layer_1 (<span style=\"color: #0087ff; text-decoration-color: #0087ff\">MaxPooling2D</span>) │ ?                      │             <span style=\"color: #00af00; text-decoration-color: #00af00\">0</span> │\n",
       "├─────────────────────────────────┼────────────────────────┼───────────────┤\n",
       "│ conv_layer_2l (<span style=\"color: #0087ff; text-decoration-color: #0087ff\">Conv2D</span>)          │ ?                      │   <span style=\"color: #00af00; text-decoration-color: #00af00\">0</span> (unbuilt) │\n",
       "├─────────────────────────────────┼────────────────────────┼───────────────┤\n",
       "│ conv_layer_2r (<span style=\"color: #0087ff; text-decoration-color: #0087ff\">Conv2D</span>)          │ ?                      │   <span style=\"color: #00af00; text-decoration-color: #00af00\">0</span> (unbuilt) │\n",
       "├─────────────────────────────────┼────────────────────────┼───────────────┤\n",
       "│ max_pool_layer_2 (<span style=\"color: #0087ff; text-decoration-color: #0087ff\">MaxPooling2D</span>) │ ?                      │             <span style=\"color: #00af00; text-decoration-color: #00af00\">0</span> │\n",
       "├─────────────────────────────────┼────────────────────────┼───────────────┤\n",
       "│ flatten_layer (<span style=\"color: #0087ff; text-decoration-color: #0087ff\">Flatten</span>)         │ ?                      │   <span style=\"color: #00af00; text-decoration-color: #00af00\">0</span> (unbuilt) │\n",
       "├─────────────────────────────────┼────────────────────────┼───────────────┤\n",
       "│ classification_head (<span style=\"color: #0087ff; text-decoration-color: #0087ff\">Dense</span>)     │ ?                      │   <span style=\"color: #00af00; text-decoration-color: #00af00\">0</span> (unbuilt) │\n",
       "└─────────────────────────────────┴────────────────────────┴───────────────┘\n",
       "</pre>\n"
      ],
      "text/plain": [
       "┏━━━━━━━━━━━━━━━━━━━━━━━━━━━━━━━━━┳━━━━━━━━━━━━━━━━━━━━━━━━┳━━━━━━━━━━━━━━━┓\n",
       "┃\u001b[1m \u001b[0m\u001b[1mLayer (type)                   \u001b[0m\u001b[1m \u001b[0m┃\u001b[1m \u001b[0m\u001b[1mOutput Shape          \u001b[0m\u001b[1m \u001b[0m┃\u001b[1m \u001b[0m\u001b[1m      Param #\u001b[0m\u001b[1m \u001b[0m┃\n",
       "┡━━━━━━━━━━━━━━━━━━━━━━━━━━━━━━━━━╇━━━━━━━━━━━━━━━━━━━━━━━━╇━━━━━━━━━━━━━━━┩\n",
       "│ conv_layer_1 (\u001b[38;5;33mConv2D\u001b[0m)           │ ?                      │   \u001b[38;5;34m0\u001b[0m (unbuilt) │\n",
       "├─────────────────────────────────┼────────────────────────┼───────────────┤\n",
       "│ max_pool_layer_1 (\u001b[38;5;33mMaxPooling2D\u001b[0m) │ ?                      │             \u001b[38;5;34m0\u001b[0m │\n",
       "├─────────────────────────────────┼────────────────────────┼───────────────┤\n",
       "│ conv_layer_2l (\u001b[38;5;33mConv2D\u001b[0m)          │ ?                      │   \u001b[38;5;34m0\u001b[0m (unbuilt) │\n",
       "├─────────────────────────────────┼────────────────────────┼───────────────┤\n",
       "│ conv_layer_2r (\u001b[38;5;33mConv2D\u001b[0m)          │ ?                      │   \u001b[38;5;34m0\u001b[0m (unbuilt) │\n",
       "├─────────────────────────────────┼────────────────────────┼───────────────┤\n",
       "│ max_pool_layer_2 (\u001b[38;5;33mMaxPooling2D\u001b[0m) │ ?                      │             \u001b[38;5;34m0\u001b[0m │\n",
       "├─────────────────────────────────┼────────────────────────┼───────────────┤\n",
       "│ flatten_layer (\u001b[38;5;33mFlatten\u001b[0m)         │ ?                      │   \u001b[38;5;34m0\u001b[0m (unbuilt) │\n",
       "├─────────────────────────────────┼────────────────────────┼───────────────┤\n",
       "│ classification_head (\u001b[38;5;33mDense\u001b[0m)     │ ?                      │   \u001b[38;5;34m0\u001b[0m (unbuilt) │\n",
       "└─────────────────────────────────┴────────────────────────┴───────────────┘\n"
      ]
     },
     "metadata": {},
     "output_type": "display_data"
    },
    {
     "data": {
      "text/html": [
       "<pre style=\"white-space:pre;overflow-x:auto;line-height:normal;font-family:Menlo,'DejaVu Sans Mono',consolas,'Courier New',monospace\"><span style=\"font-weight: bold\"> Total params: </span><span style=\"color: #00af00; text-decoration-color: #00af00\">0</span> (0.00 B)\n",
       "</pre>\n"
      ],
      "text/plain": [
       "\u001b[1m Total params: \u001b[0m\u001b[38;5;34m0\u001b[0m (0.00 B)\n"
      ]
     },
     "metadata": {},
     "output_type": "display_data"
    },
    {
     "data": {
      "text/html": [
       "<pre style=\"white-space:pre;overflow-x:auto;line-height:normal;font-family:Menlo,'DejaVu Sans Mono',consolas,'Courier New',monospace\"><span style=\"font-weight: bold\"> Trainable params: </span><span style=\"color: #00af00; text-decoration-color: #00af00\">0</span> (0.00 B)\n",
       "</pre>\n"
      ],
      "text/plain": [
       "\u001b[1m Trainable params: \u001b[0m\u001b[38;5;34m0\u001b[0m (0.00 B)\n"
      ]
     },
     "metadata": {},
     "output_type": "display_data"
    },
    {
     "data": {
      "text/html": [
       "<pre style=\"white-space:pre;overflow-x:auto;line-height:normal;font-family:Menlo,'DejaVu Sans Mono',consolas,'Courier New',monospace\"><span style=\"font-weight: bold\"> Non-trainable params: </span><span style=\"color: #00af00; text-decoration-color: #00af00\">0</span> (0.00 B)\n",
       "</pre>\n"
      ],
      "text/plain": [
       "\u001b[1m Non-trainable params: \u001b[0m\u001b[38;5;34m0\u001b[0m (0.00 B)\n"
      ]
     },
     "metadata": {},
     "output_type": "display_data"
    }
   ],
   "source": [
    "# no output shape and number of parameters specified, why?\n",
    "model = MyTinyCNN()\n",
    "model.summary()\n",
    "\n",
    "# inputs = Input(shape=input_shape)\n",
    "# _ = model.call(inputs)\n",
    "# model.summary()"
   ]
  },
  {
   "cell_type": "code",
   "execution_count": 21,
   "metadata": {},
   "outputs": [],
   "source": [
    "# Now let's train our MyTinyCNN:"
   ]
  },
  {
   "cell_type": "code",
   "execution_count": 22,
   "metadata": {},
   "outputs": [],
   "source": [
    "epochs = 32\n",
    "batch_size = 16"
   ]
  },
  {
   "cell_type": "code",
   "execution_count": 23,
   "metadata": {},
   "outputs": [],
   "source": [
    "# What do we need? Model, optimizer, loss (at least)\n",
    "model = MyTinyCNN()\n",
    "optimizer = SGD(learning_rate=0.01, name=\"optimizer\")\n",
    "loss = CategoricalCrossentropy(name=\"loss\")\n",
    "\n",
    "# metrics\n",
    "categorical_accuracy = CategoricalAccuracy(name=\"accuracy\")\n",
    "auc = AUC(name=\"auc\")\n",
    "f1_score = F1Score(average=\"macro\", name=\"f1_score\")\n",
    "metrics = [categorical_accuracy, auc, f1_score]\n",
    "\n",
    "# traces the computation\n",
    "model.compile(loss=loss, optimizer=optimizer, metrics=metrics)"
   ]
  },
  {
   "cell_type": "code",
   "execution_count": 24,
   "metadata": {},
   "outputs": [
    {
     "name": "stdout",
     "output_type": "stream",
     "text": [
      "Epoch 1/32\n"
     ]
    },
    {
     "name": "stdout",
     "output_type": "stream",
     "text": [
      "\u001b[1m52/52\u001b[0m \u001b[32m━━━━━━━━━━━━━━━━━━━━\u001b[0m\u001b[37m\u001b[0m \u001b[1m3s\u001b[0m 28ms/step - accuracy: 0.1004 - auc: 0.4963 - f1_score: 0.0630 - loss: 2.3093 - val_accuracy: 0.1122 - val_auc: 0.5761 - val_f1_score: 0.0541 - val_loss: 2.2712\n",
      "Epoch 2/32\n",
      "\u001b[1m52/52\u001b[0m \u001b[32m━━━━━━━━━━━━━━━━━━━━\u001b[0m\u001b[37m\u001b[0m \u001b[1m1s\u001b[0m 17ms/step - accuracy: 0.1366 - auc: 0.5731 - f1_score: 0.0820 - loss: 2.2752 - val_accuracy: 0.1122 - val_auc: 0.6124 - val_f1_score: 0.0567 - val_loss: 2.2538\n",
      "Epoch 3/32\n",
      "\u001b[1m52/52\u001b[0m \u001b[32m━━━━━━━━━━━━━━━━━━━━\u001b[0m\u001b[37m\u001b[0m \u001b[1m1s\u001b[0m 16ms/step - accuracy: 0.1420 - auc: 0.6153 - f1_score: 0.1079 - loss: 2.2579 - val_accuracy: 0.1561 - val_auc: 0.6737 - val_f1_score: 0.1089 - val_loss: 2.2112\n",
      "Epoch 4/32\n",
      "\u001b[1m52/52\u001b[0m \u001b[32m━━━━━━━━━━━━━━━━━━━━\u001b[0m\u001b[37m\u001b[0m \u001b[1m1s\u001b[0m 17ms/step - accuracy: 0.2121 - auc: 0.6572 - f1_score: 0.1551 - loss: 2.2168 - val_accuracy: 0.1707 - val_auc: 0.6944 - val_f1_score: 0.1415 - val_loss: 2.1861\n",
      "Epoch 5/32\n",
      "\u001b[1m52/52\u001b[0m \u001b[32m━━━━━━━━━━━━━━━━━━━━\u001b[0m\u001b[37m\u001b[0m \u001b[1m1s\u001b[0m 17ms/step - accuracy: 0.2190 - auc: 0.6982 - f1_score: 0.1757 - loss: 2.1597 - val_accuracy: 0.2390 - val_auc: 0.7118 - val_f1_score: 0.1728 - val_loss: 2.1130\n",
      "Epoch 6/32\n",
      "\u001b[1m52/52\u001b[0m \u001b[32m━━━━━━━━━━━━━━━━━━━━\u001b[0m\u001b[37m\u001b[0m \u001b[1m1s\u001b[0m 16ms/step - accuracy: 0.2571 - auc: 0.7119 - f1_score: 0.2135 - loss: 2.1126 - val_accuracy: 0.2488 - val_auc: 0.7377 - val_f1_score: 0.1746 - val_loss: 2.0521\n",
      "Epoch 7/32\n",
      "\u001b[1m52/52\u001b[0m \u001b[32m━━━━━━━━━━━━━━━━━━━━\u001b[0m\u001b[37m\u001b[0m \u001b[1m1s\u001b[0m 16ms/step - accuracy: 0.2662 - auc: 0.7308 - f1_score: 0.2267 - loss: 2.0452 - val_accuracy: 0.1463 - val_auc: 0.7166 - val_f1_score: 0.0802 - val_loss: 2.0605\n",
      "Epoch 8/32\n",
      "\u001b[1m52/52\u001b[0m \u001b[32m━━━━━━━━━━━━━━━━━━━━\u001b[0m\u001b[37m\u001b[0m \u001b[1m1s\u001b[0m 16ms/step - accuracy: 0.2632 - auc: 0.7266 - f1_score: 0.2176 - loss: 2.0448 - val_accuracy: 0.2488 - val_auc: 0.7470 - val_f1_score: 0.1986 - val_loss: 1.9931\n",
      "Epoch 9/32\n",
      "\u001b[1m52/52\u001b[0m \u001b[32m━━━━━━━━━━━━━━━━━━━━\u001b[0m\u001b[37m\u001b[0m \u001b[1m1s\u001b[0m 17ms/step - accuracy: 0.2354 - auc: 0.7358 - f1_score: 0.2127 - loss: 2.0210 - val_accuracy: 0.2098 - val_auc: 0.7482 - val_f1_score: 0.1782 - val_loss: 1.9759\n",
      "Epoch 10/32\n",
      "\u001b[1m52/52\u001b[0m \u001b[32m━━━━━━━━━━━━━━━━━━━━\u001b[0m\u001b[37m\u001b[0m \u001b[1m1s\u001b[0m 15ms/step - accuracy: 0.2669 - auc: 0.7568 - f1_score: 0.2495 - loss: 1.9565 - val_accuracy: 0.2049 - val_auc: 0.6937 - val_f1_score: 0.1782 - val_loss: 2.1033\n",
      "Epoch 11/32\n",
      "\u001b[1m52/52\u001b[0m \u001b[32m━━━━━━━━━━━━━━━━━━━━\u001b[0m\u001b[37m\u001b[0m \u001b[1m1s\u001b[0m 15ms/step - accuracy: 0.3016 - auc: 0.7572 - f1_score: 0.2759 - loss: 1.9533 - val_accuracy: 0.1951 - val_auc: 0.7189 - val_f1_score: 0.1994 - val_loss: 2.0411\n",
      "Epoch 12/32\n",
      "\u001b[1m52/52\u001b[0m \u001b[32m━━━━━━━━━━━━━━━━━━━━\u001b[0m\u001b[37m\u001b[0m \u001b[1m1s\u001b[0m 15ms/step - accuracy: 0.3153 - auc: 0.7679 - f1_score: 0.2774 - loss: 1.9221 - val_accuracy: 0.2537 - val_auc: 0.7596 - val_f1_score: 0.2023 - val_loss: 1.9285\n",
      "Epoch 13/32\n",
      "\u001b[1m52/52\u001b[0m \u001b[32m━━━━━━━━━━━━━━━━━━━━\u001b[0m\u001b[37m\u001b[0m \u001b[1m1s\u001b[0m 15ms/step - accuracy: 0.3279 - auc: 0.7631 - f1_score: 0.3136 - loss: 1.9300 - val_accuracy: 0.0976 - val_auc: 0.5797 - val_f1_score: 0.0457 - val_loss: 2.7537\n",
      "Epoch 14/32\n",
      "\u001b[1m52/52\u001b[0m \u001b[32m━━━━━━━━━━━━━━━━━━━━\u001b[0m\u001b[37m\u001b[0m \u001b[1m1s\u001b[0m 15ms/step - accuracy: 0.3340 - auc: 0.7625 - f1_score: 0.3040 - loss: 1.9553 - val_accuracy: 0.2244 - val_auc: 0.7425 - val_f1_score: 0.2197 - val_loss: 1.9984\n",
      "Epoch 15/32\n",
      "\u001b[1m52/52\u001b[0m \u001b[32m━━━━━━━━━━━━━━━━━━━━\u001b[0m\u001b[37m\u001b[0m \u001b[1m1s\u001b[0m 15ms/step - accuracy: 0.3241 - auc: 0.7760 - f1_score: 0.3063 - loss: 1.8983 - val_accuracy: 0.0780 - val_auc: 0.5429 - val_f1_score: 0.0228 - val_loss: 3.2185\n",
      "Epoch 16/32\n",
      "\u001b[1m52/52\u001b[0m \u001b[32m━━━━━━━━━━━━━━━━━━━━\u001b[0m\u001b[37m\u001b[0m \u001b[1m1s\u001b[0m 16ms/step - accuracy: 0.3403 - auc: 0.7719 - f1_score: 0.3230 - loss: 1.9304 - val_accuracy: 0.2732 - val_auc: 0.7561 - val_f1_score: 0.1954 - val_loss: 1.9518\n",
      "Epoch 17/32\n",
      "\u001b[1m52/52\u001b[0m \u001b[32m━━━━━━━━━━━━━━━━━━━━\u001b[0m\u001b[37m\u001b[0m \u001b[1m1s\u001b[0m 15ms/step - accuracy: 0.3258 - auc: 0.7897 - f1_score: 0.3096 - loss: 1.8546 - val_accuracy: 0.2293 - val_auc: 0.7707 - val_f1_score: 0.1855 - val_loss: 1.9161\n",
      "Epoch 18/32\n",
      "\u001b[1m52/52\u001b[0m \u001b[32m━━━━━━━━━━━━━━━━━━━━\u001b[0m\u001b[37m\u001b[0m \u001b[1m1s\u001b[0m 15ms/step - accuracy: 0.3380 - auc: 0.7891 - f1_score: 0.3119 - loss: 1.8416 - val_accuracy: 0.1805 - val_auc: 0.7013 - val_f1_score: 0.1002 - val_loss: 2.3383\n",
      "Epoch 19/32\n",
      "\u001b[1m52/52\u001b[0m \u001b[32m━━━━━━━━━━━━━━━━━━━━\u001b[0m\u001b[37m\u001b[0m \u001b[1m1s\u001b[0m 15ms/step - accuracy: 0.3758 - auc: 0.8019 - f1_score: 0.3464 - loss: 1.8158 - val_accuracy: 0.2488 - val_auc: 0.7533 - val_f1_score: 0.2236 - val_loss: 1.9780\n",
      "Epoch 20/32\n",
      "\u001b[1m52/52\u001b[0m \u001b[32m━━━━━━━━━━━━━━━━━━━━\u001b[0m\u001b[37m\u001b[0m \u001b[1m1s\u001b[0m 15ms/step - accuracy: 0.3500 - auc: 0.8077 - f1_score: 0.3372 - loss: 1.7815 - val_accuracy: 0.2927 - val_auc: 0.7822 - val_f1_score: 0.2515 - val_loss: 1.8743\n",
      "Epoch 21/32\n",
      "\u001b[1m52/52\u001b[0m \u001b[32m━━━━━━━━━━━━━━━━━━━━\u001b[0m\u001b[37m\u001b[0m \u001b[1m1s\u001b[0m 15ms/step - accuracy: 0.4064 - auc: 0.8373 - f1_score: 0.3919 - loss: 1.6783 - val_accuracy: 0.2585 - val_auc: 0.7771 - val_f1_score: 0.2049 - val_loss: 1.9447\n",
      "Epoch 22/32\n",
      "\u001b[1m52/52\u001b[0m \u001b[32m━━━━━━━━━━━━━━━━━━━━\u001b[0m\u001b[37m\u001b[0m \u001b[1m1s\u001b[0m 16ms/step - accuracy: 0.3980 - auc: 0.8282 - f1_score: 0.3616 - loss: 1.7131 - val_accuracy: 0.2780 - val_auc: 0.7790 - val_f1_score: 0.2470 - val_loss: 1.9028\n",
      "Epoch 23/32\n",
      "\u001b[1m52/52\u001b[0m \u001b[32m━━━━━━━━━━━━━━━━━━━━\u001b[0m\u001b[37m\u001b[0m \u001b[1m1s\u001b[0m 16ms/step - accuracy: 0.4482 - auc: 0.8449 - f1_score: 0.4040 - loss: 1.6222 - val_accuracy: 0.2634 - val_auc: 0.7683 - val_f1_score: 0.1948 - val_loss: 1.9981\n",
      "Epoch 24/32\n",
      "\u001b[1m52/52\u001b[0m \u001b[32m━━━━━━━━━━━━━━━━━━━━\u001b[0m\u001b[37m\u001b[0m \u001b[1m1s\u001b[0m 16ms/step - accuracy: 0.4110 - auc: 0.8375 - f1_score: 0.3895 - loss: 1.6634 - val_accuracy: 0.2439 - val_auc: 0.7750 - val_f1_score: 0.2093 - val_loss: 1.9320\n",
      "Epoch 25/32\n",
      "\u001b[1m52/52\u001b[0m \u001b[32m━━━━━━━━━━━━━━━━━━━━\u001b[0m\u001b[37m\u001b[0m \u001b[1m1s\u001b[0m 19ms/step - accuracy: 0.4310 - auc: 0.8494 - f1_score: 0.4181 - loss: 1.6195 - val_accuracy: 0.2976 - val_auc: 0.8041 - val_f1_score: 0.2572 - val_loss: 1.8108\n",
      "Epoch 26/32\n",
      "\u001b[1m52/52\u001b[0m \u001b[32m━━━━━━━━━━━━━━━━━━━━\u001b[0m\u001b[37m\u001b[0m \u001b[1m1s\u001b[0m 17ms/step - accuracy: 0.4470 - auc: 0.8459 - f1_score: 0.4273 - loss: 1.6182 - val_accuracy: 0.3024 - val_auc: 0.7887 - val_f1_score: 0.2713 - val_loss: 1.8404\n",
      "Epoch 27/32\n",
      "\u001b[1m52/52\u001b[0m \u001b[32m━━━━━━━━━━━━━━━━━━━━\u001b[0m\u001b[37m\u001b[0m \u001b[1m1s\u001b[0m 18ms/step - accuracy: 0.4516 - auc: 0.8573 - f1_score: 0.4299 - loss: 1.5859 - val_accuracy: 0.2585 - val_auc: 0.7661 - val_f1_score: 0.2310 - val_loss: 1.9903\n",
      "Epoch 28/32\n",
      "\u001b[1m52/52\u001b[0m \u001b[32m━━━━━━━━━━━━━━━━━━━━\u001b[0m\u001b[37m\u001b[0m \u001b[1m1s\u001b[0m 18ms/step - accuracy: 0.4509 - auc: 0.8687 - f1_score: 0.4385 - loss: 1.5278 - val_accuracy: 0.2195 - val_auc: 0.7557 - val_f1_score: 0.1975 - val_loss: 2.0820\n",
      "Epoch 29/32\n",
      "\u001b[1m52/52\u001b[0m \u001b[32m━━━━━━━━━━━━━━━━━━━━\u001b[0m\u001b[37m\u001b[0m \u001b[1m1s\u001b[0m 16ms/step - accuracy: 0.4743 - auc: 0.8681 - f1_score: 0.4608 - loss: 1.5283 - val_accuracy: 0.3024 - val_auc: 0.8096 - val_f1_score: 0.2709 - val_loss: 1.8005\n",
      "Epoch 30/32\n",
      "\u001b[1m52/52\u001b[0m \u001b[32m━━━━━━━━━━━━━━━━━━━━\u001b[0m\u001b[37m\u001b[0m \u001b[1m1s\u001b[0m 17ms/step - accuracy: 0.4833 - auc: 0.8666 - f1_score: 0.4711 - loss: 1.5199 - val_accuracy: 0.3268 - val_auc: 0.8046 - val_f1_score: 0.2806 - val_loss: 1.8284\n",
      "Epoch 31/32\n",
      "\u001b[1m52/52\u001b[0m \u001b[32m━━━━━━━━━━━━━━━━━━━━\u001b[0m\u001b[37m\u001b[0m \u001b[1m1s\u001b[0m 18ms/step - accuracy: 0.5007 - auc: 0.8787 - f1_score: 0.4763 - loss: 1.4561 - val_accuracy: 0.1805 - val_auc: 0.6867 - val_f1_score: 0.1342 - val_loss: 2.6025\n",
      "Epoch 32/32\n",
      "\u001b[1m52/52\u001b[0m \u001b[32m━━━━━━━━━━━━━━━━━━━━\u001b[0m\u001b[37m\u001b[0m \u001b[1m1s\u001b[0m 17ms/step - accuracy: 0.4929 - auc: 0.8705 - f1_score: 0.4720 - loss: 1.5116 - val_accuracy: 0.3268 - val_auc: 0.8085 - val_f1_score: 0.2910 - val_loss: 1.8114\n"
     ]
    }
   ],
   "source": [
    "# train the model\n",
    "_ = model.fit(\n",
    "    X_train,\n",
    "    y_train,\n",
    "    batch_size=batch_size,\n",
    "    epochs=epochs,\n",
    "    validation_split=0.2\n",
    ")"
   ]
  },
  {
   "cell_type": "code",
   "execution_count": 25,
   "metadata": {},
   "outputs": [
    {
     "data": {
      "text/plain": [
       "{'accuracy': 0.40625,\n",
       " 'auc': 0.7808701992034912,\n",
       " 'f1_score': 0.3668270707130432,\n",
       " 'loss': 1.9205697774887085}"
      ]
     },
     "execution_count": 25,
     "metadata": {},
     "output_type": "execute_result"
    }
   ],
   "source": [
    "# evaluate on the test set\n",
    "model.evaluate(\n",
    "    X_test,\n",
    "    y_test,\n",
    "    batch_size=batch_size,\n",
    "    return_dict=True,\n",
    "    verbose=0\n",
    ")"
   ]
  },
  {
   "cell_type": "code",
   "execution_count": 26,
   "metadata": {},
   "outputs": [
    {
     "data": {
      "text/plain": [
       "array([0., 1., 0., 0., 0., 0., 0., 0., 0., 0.])"
      ]
     },
     "execution_count": 26,
     "metadata": {},
     "output_type": "execute_result"
    }
   ],
   "source": [
    "# predict on an example\n",
    "test_idx = 0\n",
    "test_example = X_test[test_idx : test_idx + 1]\n",
    "true_test_example_class = y_test[test_idx]\n",
    "true_test_example_class"
   ]
  },
  {
   "cell_type": "code",
   "execution_count": 27,
   "metadata": {},
   "outputs": [
    {
     "data": {
      "text/plain": [
       "1"
      ]
     },
     "execution_count": 27,
     "metadata": {},
     "output_type": "execute_result"
    }
   ],
   "source": [
    "int(true_test_example_class.argmax())"
   ]
  },
  {
   "cell_type": "code",
   "execution_count": 28,
   "metadata": {},
   "outputs": [
    {
     "data": {
      "text/plain": [
       "array([[5.1102545e-02, 7.9792120e-02, 1.9300796e-02, 2.4581226e-02,\n",
       "        2.3301435e-03, 4.9092229e-03, 4.8309675e-04, 5.8876064e-02,\n",
       "        1.8692419e-01, 5.7170057e-01]], dtype=float32)"
      ]
     },
     "execution_count": 28,
     "metadata": {},
     "output_type": "execute_result"
    }
   ],
   "source": [
    "test_example_probs = model.predict(test_example, verbose=0)\n",
    "test_example_probs"
   ]
  },
  {
   "cell_type": "code",
   "execution_count": 29,
   "metadata": {},
   "outputs": [
    {
     "data": {
      "text/plain": [
       "9"
      ]
     },
     "execution_count": 29,
     "metadata": {},
     "output_type": "execute_result"
    }
   ],
   "source": [
    "int(test_example_probs.argmax())"
   ]
  },
  {
   "cell_type": "code",
   "execution_count": 30,
   "metadata": {},
   "outputs": [
    {
     "data": {
      "image/png": "[encoded data removed]",
      "text/plain": [
       "<Figure size 640x480 with 1 Axes>"
      ]
     },
     "metadata": {},
     "output_type": "display_data"
    }
   ],
   "source": [
    "show_image(test_example[0])"
   ]
  },
  {
   "cell_type": "code",
   "execution_count": 31,
   "metadata": {},
   "outputs": [],
   "source": [
    "# Next class:\n",
    "# Regularization"
   ]
  },
  {
   "cell_type": "markdown",
   "metadata": {},
   "source": [
    "---"
   ]
  }
 ],
 "metadata": {
  "kernelspec": {
   "display_name": "deeplearning",
   "language": "python",
   "name": "python3"
  },
  "language_info": {
   "codemirror_mode": {
    "name": "ipython",
    "version": 3
   },
   "file_extension": ".py",
   "mimetype": "text/x-python",
   "name": "python",
   "nbconvert_exporter": "python",
   "pygments_lexer": "ipython3",
   "version": "3.12.9"
  }
 },
 "nbformat": 4,
 "nbformat_minor": 2
}
